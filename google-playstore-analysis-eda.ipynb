{
 "cells": [
  {
   "cell_type": "markdown",
   "id": "a0312f89",
   "metadata": {
    "papermill": {
     "duration": 0.022437,
     "end_time": "2022-10-09T05:18:00.461429",
     "exception": false,
     "start_time": "2022-10-09T05:18:00.438992",
     "status": "completed"
    },
    "tags": []
   },
   "source": [
    "<h1 style = \"color :Blue\">Google Playstore Case Study</h1>\n",
    "    \n",
    "<h5 style = 'color:Green'>In this Notebook you’ll be learning data visualisation with the help of a case study. This will enable you to understand how visualisation aids you in solving business problems.</h5>"
   ]
  },
  {
   "cell_type": "markdown",
   "id": "1ececbdc",
   "metadata": {
    "papermill": {
     "duration": 0.016192,
     "end_time": "2022-10-09T05:18:00.495123",
     "exception": false,
     "start_time": "2022-10-09T05:18:00.478931",
     "status": "completed"
    },
    "tags": []
   },
   "source": [
    "**Problem Statement**\n",
    "\n",
    "The team at Google Play Store wants to develop a feature that would enable them to boost visibility for the most promising apps. Now, this analysis would require a preliminary understanding of the features that define a well-performing app. You can ask questions like:\n",
    "- Does a higher size or price necessarily mean that an app would perform better than the other apps? \n",
    "- Or does a higher number of installs give a clear picture of which app would have a better rating than others?"
   ]
  },
  {
   "cell_type": "code",
   "execution_count": 1,
   "id": "14492d99",
   "metadata": {
    "execution": {
     "iopub.execute_input": "2022-10-09T05:18:00.530427Z",
     "iopub.status.busy": "2022-10-09T05:18:00.529935Z",
     "iopub.status.idle": "2022-10-09T05:18:01.734881Z",
     "shell.execute_reply": "2022-10-09T05:18:01.733387Z"
    },
    "papermill": {
     "duration": 1.225919,
     "end_time": "2022-10-09T05:18:01.737827",
     "exception": false,
     "start_time": "2022-10-09T05:18:00.511908",
     "status": "completed"
    },
    "tags": []
   },
   "outputs": [],
   "source": [
    "#import the libraries\n",
    "import pandas as pd\n",
    "import numpy as np\n",
    "import matplotlib.pyplot as plt\n",
    "import seaborn as sns"
   ]
  },
  {
   "cell_type": "code",
   "execution_count": 2,
   "id": "935c164b",
   "metadata": {
    "execution": {
     "iopub.execute_input": "2022-10-09T05:18:01.774878Z",
     "iopub.status.busy": "2022-10-09T05:18:01.774161Z",
     "iopub.status.idle": "2022-10-09T05:18:01.873548Z",
     "shell.execute_reply": "2022-10-09T05:18:01.872353Z"
    },
    "papermill": {
     "duration": 0.121536,
     "end_time": "2022-10-09T05:18:01.876882",
     "exception": false,
     "start_time": "2022-10-09T05:18:01.755346",
     "status": "completed"
    },
    "tags": []
   },
   "outputs": [
    {
     "data": {
      "text/html": [
       "<div>\n",
       "<style scoped>\n",
       "    .dataframe tbody tr th:only-of-type {\n",
       "        vertical-align: middle;\n",
       "    }\n",
       "\n",
       "    .dataframe tbody tr th {\n",
       "        vertical-align: top;\n",
       "    }\n",
       "\n",
       "    .dataframe thead th {\n",
       "        text-align: right;\n",
       "    }\n",
       "</style>\n",
       "<table border=\"1\" class=\"dataframe\">\n",
       "  <thead>\n",
       "    <tr style=\"text-align: right;\">\n",
       "      <th></th>\n",
       "      <th>App</th>\n",
       "      <th>Category</th>\n",
       "      <th>Rating</th>\n",
       "      <th>Reviews</th>\n",
       "      <th>Size</th>\n",
       "      <th>Installs</th>\n",
       "      <th>Type</th>\n",
       "      <th>Price</th>\n",
       "      <th>Content Rating</th>\n",
       "      <th>Genres</th>\n",
       "      <th>Last Updated</th>\n",
       "      <th>Current Ver</th>\n",
       "      <th>Android Ver</th>\n",
       "    </tr>\n",
       "  </thead>\n",
       "  <tbody>\n",
       "    <tr>\n",
       "      <th>0</th>\n",
       "      <td>Photo Editor &amp; Candy Camera &amp; Grid &amp; ScrapBook</td>\n",
       "      <td>ART_AND_DESIGN</td>\n",
       "      <td>4.1</td>\n",
       "      <td>159</td>\n",
       "      <td>19000.0</td>\n",
       "      <td>10,000+</td>\n",
       "      <td>Free</td>\n",
       "      <td>0</td>\n",
       "      <td>Everyone</td>\n",
       "      <td>Art &amp; Design</td>\n",
       "      <td>January 7, 2018</td>\n",
       "      <td>1.0.0</td>\n",
       "      <td>4.0.3 and up</td>\n",
       "    </tr>\n",
       "    <tr>\n",
       "      <th>1</th>\n",
       "      <td>Coloring book moana</td>\n",
       "      <td>ART_AND_DESIGN</td>\n",
       "      <td>3.9</td>\n",
       "      <td>967</td>\n",
       "      <td>14000.0</td>\n",
       "      <td>500,000+</td>\n",
       "      <td>Free</td>\n",
       "      <td>0</td>\n",
       "      <td>Everyone</td>\n",
       "      <td>Art &amp; Design;Pretend Play</td>\n",
       "      <td>January 15, 2018</td>\n",
       "      <td>2.0.0</td>\n",
       "      <td>4.0.3 and up</td>\n",
       "    </tr>\n",
       "    <tr>\n",
       "      <th>2</th>\n",
       "      <td>U Launcher Lite – FREE Live Cool Themes, Hide ...</td>\n",
       "      <td>ART_AND_DESIGN</td>\n",
       "      <td>4.7</td>\n",
       "      <td>87510</td>\n",
       "      <td>8700.0</td>\n",
       "      <td>5,000,000+</td>\n",
       "      <td>Free</td>\n",
       "      <td>0</td>\n",
       "      <td>Everyone</td>\n",
       "      <td>Art &amp; Design</td>\n",
       "      <td>August 1, 2018</td>\n",
       "      <td>1.2.4</td>\n",
       "      <td>4.0.3 and up</td>\n",
       "    </tr>\n",
       "    <tr>\n",
       "      <th>3</th>\n",
       "      <td>Sketch - Draw &amp; Paint</td>\n",
       "      <td>ART_AND_DESIGN</td>\n",
       "      <td>4.5</td>\n",
       "      <td>215644</td>\n",
       "      <td>25000.0</td>\n",
       "      <td>50,000,000+</td>\n",
       "      <td>Free</td>\n",
       "      <td>0</td>\n",
       "      <td>Teen</td>\n",
       "      <td>Art &amp; Design</td>\n",
       "      <td>June 8, 2018</td>\n",
       "      <td>Varies with device</td>\n",
       "      <td>4.2 and up</td>\n",
       "    </tr>\n",
       "    <tr>\n",
       "      <th>4</th>\n",
       "      <td>Pixel Draw - Number Art Coloring Book</td>\n",
       "      <td>ART_AND_DESIGN</td>\n",
       "      <td>4.3</td>\n",
       "      <td>967</td>\n",
       "      <td>2800.0</td>\n",
       "      <td>100,000+</td>\n",
       "      <td>Free</td>\n",
       "      <td>0</td>\n",
       "      <td>Everyone</td>\n",
       "      <td>Art &amp; Design;Creativity</td>\n",
       "      <td>June 20, 2018</td>\n",
       "      <td>1.1</td>\n",
       "      <td>4.4 and up</td>\n",
       "    </tr>\n",
       "  </tbody>\n",
       "</table>\n",
       "</div>"
      ],
      "text/plain": [
       "                                                 App        Category  Rating  \\\n",
       "0     Photo Editor & Candy Camera & Grid & ScrapBook  ART_AND_DESIGN     4.1   \n",
       "1                                Coloring book moana  ART_AND_DESIGN     3.9   \n",
       "2  U Launcher Lite – FREE Live Cool Themes, Hide ...  ART_AND_DESIGN     4.7   \n",
       "3                              Sketch - Draw & Paint  ART_AND_DESIGN     4.5   \n",
       "4              Pixel Draw - Number Art Coloring Book  ART_AND_DESIGN     4.3   \n",
       "\n",
       "  Reviews     Size     Installs  Type Price Content Rating  \\\n",
       "0     159  19000.0      10,000+  Free     0       Everyone   \n",
       "1     967  14000.0     500,000+  Free     0       Everyone   \n",
       "2   87510   8700.0   5,000,000+  Free     0       Everyone   \n",
       "3  215644  25000.0  50,000,000+  Free     0           Teen   \n",
       "4     967   2800.0     100,000+  Free     0       Everyone   \n",
       "\n",
       "                      Genres      Last Updated         Current Ver  \\\n",
       "0               Art & Design   January 7, 2018               1.0.0   \n",
       "1  Art & Design;Pretend Play  January 15, 2018               2.0.0   \n",
       "2               Art & Design    August 1, 2018               1.2.4   \n",
       "3               Art & Design      June 8, 2018  Varies with device   \n",
       "4    Art & Design;Creativity     June 20, 2018                 1.1   \n",
       "\n",
       "    Android Ver  \n",
       "0  4.0.3 and up  \n",
       "1  4.0.3 and up  \n",
       "2  4.0.3 and up  \n",
       "3    4.2 and up  \n",
       "4    4.4 and up  "
      ]
     },
     "execution_count": 2,
     "metadata": {},
     "output_type": "execute_result"
    }
   ],
   "source": [
    "#read the dataset and check the first five rows\n",
    "data = pd.read_csv(\"../input/googleplaystore-v2/googleplaystore_v2.csv\")\n",
    "data.head()"
   ]
  },
  {
   "cell_type": "code",
   "execution_count": 3,
   "id": "a6e3024e",
   "metadata": {
    "execution": {
     "iopub.execute_input": "2022-10-09T05:18:01.912063Z",
     "iopub.status.busy": "2022-10-09T05:18:01.911403Z",
     "iopub.status.idle": "2022-10-09T05:18:01.918735Z",
     "shell.execute_reply": "2022-10-09T05:18:01.917517Z"
    },
    "papermill": {
     "duration": 0.027663,
     "end_time": "2022-10-09T05:18:01.921075",
     "exception": false,
     "start_time": "2022-10-09T05:18:01.893412",
     "status": "completed"
    },
    "tags": []
   },
   "outputs": [
    {
     "data": {
      "text/plain": [
       "(10841, 13)"
      ]
     },
     "execution_count": 3,
     "metadata": {},
     "output_type": "execute_result"
    }
   ],
   "source": [
    "data.shape"
   ]
  },
  {
   "cell_type": "code",
   "execution_count": 4,
   "id": "9ea87dcb",
   "metadata": {
    "execution": {
     "iopub.execute_input": "2022-10-09T05:18:01.956139Z",
     "iopub.status.busy": "2022-10-09T05:18:01.955712Z",
     "iopub.status.idle": "2022-10-09T05:18:01.989579Z",
     "shell.execute_reply": "2022-10-09T05:18:01.988051Z"
    },
    "papermill": {
     "duration": 0.055567,
     "end_time": "2022-10-09T05:18:01.993155",
     "exception": false,
     "start_time": "2022-10-09T05:18:01.937588",
     "status": "completed"
    },
    "tags": []
   },
   "outputs": [
    {
     "name": "stdout",
     "output_type": "stream",
     "text": [
      "<class 'pandas.core.frame.DataFrame'>\n",
      "RangeIndex: 10841 entries, 0 to 10840\n",
      "Data columns (total 13 columns):\n",
      " #   Column          Non-Null Count  Dtype  \n",
      "---  ------          --------------  -----  \n",
      " 0   App             10841 non-null  object \n",
      " 1   Category        10841 non-null  object \n",
      " 2   Rating          9367 non-null   float64\n",
      " 3   Reviews         10841 non-null  object \n",
      " 4   Size            10841 non-null  float64\n",
      " 5   Installs        10841 non-null  object \n",
      " 6   Type            10840 non-null  object \n",
      " 7   Price           10841 non-null  object \n",
      " 8   Content Rating  10840 non-null  object \n",
      " 9   Genres          10841 non-null  object \n",
      " 10  Last Updated    10841 non-null  object \n",
      " 11  Current Ver     10833 non-null  object \n",
      " 12  Android Ver     10838 non-null  object \n",
      "dtypes: float64(2), object(11)\n",
      "memory usage: 1.1+ MB\n"
     ]
    }
   ],
   "source": [
    "data.info()"
   ]
  },
  {
   "cell_type": "markdown",
   "id": "82d00d36",
   "metadata": {
    "papermill": {
     "duration": 0.016973,
     "end_time": "2022-10-09T05:18:02.027441",
     "exception": false,
     "start_time": "2022-10-09T05:18:02.010468",
     "status": "completed"
    },
    "tags": []
   },
   "source": [
    "# Data Handling and Cleaning"
   ]
  },
  {
   "cell_type": "code",
   "execution_count": 5,
   "id": "bd8440cd",
   "metadata": {
    "execution": {
     "iopub.execute_input": "2022-10-09T05:18:02.064137Z",
     "iopub.status.busy": "2022-10-09T05:18:02.063262Z",
     "iopub.status.idle": "2022-10-09T05:18:02.077985Z",
     "shell.execute_reply": "2022-10-09T05:18:02.076695Z"
    },
    "papermill": {
     "duration": 0.035177,
     "end_time": "2022-10-09T05:18:02.080311",
     "exception": false,
     "start_time": "2022-10-09T05:18:02.045134",
     "status": "completed"
    },
    "tags": []
   },
   "outputs": [
    {
     "data": {
      "text/plain": [
       "App                  0\n",
       "Category             0\n",
       "Rating            1474\n",
       "Reviews              0\n",
       "Size                 0\n",
       "Installs             0\n",
       "Type                 1\n",
       "Price                0\n",
       "Content Rating       1\n",
       "Genres               0\n",
       "Last Updated         0\n",
       "Current Ver          8\n",
       "Android Ver          3\n",
       "dtype: int64"
      ]
     },
     "execution_count": 5,
     "metadata": {},
     "output_type": "execute_result"
    }
   ],
   "source": [
    "data.isnull().sum()"
   ]
  },
  {
   "cell_type": "markdown",
   "id": "6d0b47b3",
   "metadata": {
    "papermill": {
     "duration": 0.016408,
     "end_time": "2022-10-09T05:18:02.113586",
     "exception": false,
     "start_time": "2022-10-09T05:18:02.097178",
     "status": "completed"
    },
    "tags": []
   },
   "source": [
    "Handling missing values for rating\n",
    " - Ratings is the target variable\n",
    " - drop the records\n",
    "\n",
    "The Rating column is our target variable, which would influence our analysis greatly as we keep progressing. Therefore, imputing values may skew our results significantly and hence we should drop them. "
   ]
  },
  {
   "cell_type": "code",
   "execution_count": 6,
   "id": "7a9bdf71",
   "metadata": {
    "execution": {
     "iopub.execute_input": "2022-10-09T05:18:02.149211Z",
     "iopub.status.busy": "2022-10-09T05:18:02.148353Z",
     "iopub.status.idle": "2022-10-09T05:18:02.160762Z",
     "shell.execute_reply": "2022-10-09T05:18:02.159479Z"
    },
    "papermill": {
     "duration": 0.033473,
     "end_time": "2022-10-09T05:18:02.163708",
     "exception": false,
     "start_time": "2022-10-09T05:18:02.130235",
     "status": "completed"
    },
    "tags": []
   },
   "outputs": [
    {
     "data": {
      "text/plain": [
       "(9367, 13)"
      ]
     },
     "execution_count": 6,
     "metadata": {},
     "output_type": "execute_result"
    }
   ],
   "source": [
    "#Drop the rows having null values in the Rating field\n",
    "data1 = data[~data['Rating'].isnull()]   #OR data_1 = data[~data.Rating.isnull()]\n",
    "#Check the shape of the dataframe\n",
    "data1.shape"
   ]
  },
  {
   "cell_type": "code",
   "execution_count": 7,
   "id": "c8801745",
   "metadata": {
    "execution": {
     "iopub.execute_input": "2022-10-09T05:18:02.201607Z",
     "iopub.status.busy": "2022-10-09T05:18:02.201179Z",
     "iopub.status.idle": "2022-10-09T05:18:02.215758Z",
     "shell.execute_reply": "2022-10-09T05:18:02.214759Z"
    },
    "papermill": {
     "duration": 0.036604,
     "end_time": "2022-10-09T05:18:02.218171",
     "exception": false,
     "start_time": "2022-10-09T05:18:02.181567",
     "status": "completed"
    },
    "tags": []
   },
   "outputs": [
    {
     "data": {
      "text/plain": [
       "App               0\n",
       "Category          0\n",
       "Rating            0\n",
       "Reviews           0\n",
       "Size              0\n",
       "Installs          0\n",
       "Type              0\n",
       "Price             0\n",
       "Content Rating    1\n",
       "Genres            0\n",
       "Last Updated      0\n",
       "Current Ver       4\n",
       "Android Ver       3\n",
       "dtype: int64"
      ]
     },
     "execution_count": 7,
     "metadata": {},
     "output_type": "execute_result"
    }
   ],
   "source": [
    "# Check the number of nulls in the Rating field again to cross-verify\n",
    "data1.isnull().sum()"
   ]
  },
  {
   "cell_type": "code",
   "execution_count": 8,
   "id": "de03c89a",
   "metadata": {
    "execution": {
     "iopub.execute_input": "2022-10-09T05:18:02.257403Z",
     "iopub.status.busy": "2022-10-09T05:18:02.257004Z",
     "iopub.status.idle": "2022-10-09T05:18:02.275656Z",
     "shell.execute_reply": "2022-10-09T05:18:02.274547Z"
    },
    "papermill": {
     "duration": 0.039798,
     "end_time": "2022-10-09T05:18:02.278220",
     "exception": false,
     "start_time": "2022-10-09T05:18:02.238422",
     "status": "completed"
    },
    "tags": []
   },
   "outputs": [
    {
     "data": {
      "text/html": [
       "<div>\n",
       "<style scoped>\n",
       "    .dataframe tbody tr th:only-of-type {\n",
       "        vertical-align: middle;\n",
       "    }\n",
       "\n",
       "    .dataframe tbody tr th {\n",
       "        vertical-align: top;\n",
       "    }\n",
       "\n",
       "    .dataframe thead th {\n",
       "        text-align: right;\n",
       "    }\n",
       "</style>\n",
       "<table border=\"1\" class=\"dataframe\">\n",
       "  <thead>\n",
       "    <tr style=\"text-align: right;\">\n",
       "      <th></th>\n",
       "      <th>App</th>\n",
       "      <th>Category</th>\n",
       "      <th>Rating</th>\n",
       "      <th>Reviews</th>\n",
       "      <th>Size</th>\n",
       "      <th>Installs</th>\n",
       "      <th>Type</th>\n",
       "      <th>Price</th>\n",
       "      <th>Content Rating</th>\n",
       "      <th>Genres</th>\n",
       "      <th>Last Updated</th>\n",
       "      <th>Current Ver</th>\n",
       "      <th>Android Ver</th>\n",
       "    </tr>\n",
       "  </thead>\n",
       "  <tbody>\n",
       "    <tr>\n",
       "      <th>4453</th>\n",
       "      <td>[substratum] Vacuum: P</td>\n",
       "      <td>PERSONALIZATION</td>\n",
       "      <td>4.4</td>\n",
       "      <td>230</td>\n",
       "      <td>11000.000000</td>\n",
       "      <td>1,000+</td>\n",
       "      <td>Paid</td>\n",
       "      <td>$1.49</td>\n",
       "      <td>Everyone</td>\n",
       "      <td>Personalization</td>\n",
       "      <td>July 20, 2018</td>\n",
       "      <td>4.4</td>\n",
       "      <td>NaN</td>\n",
       "    </tr>\n",
       "    <tr>\n",
       "      <th>4490</th>\n",
       "      <td>Pi Dark [substratum]</td>\n",
       "      <td>PERSONALIZATION</td>\n",
       "      <td>4.5</td>\n",
       "      <td>189</td>\n",
       "      <td>2100.000000</td>\n",
       "      <td>10,000+</td>\n",
       "      <td>Free</td>\n",
       "      <td>0</td>\n",
       "      <td>Everyone</td>\n",
       "      <td>Personalization</td>\n",
       "      <td>March 27, 2018</td>\n",
       "      <td>1.1</td>\n",
       "      <td>NaN</td>\n",
       "    </tr>\n",
       "    <tr>\n",
       "      <th>10472</th>\n",
       "      <td>Life Made WI-Fi Touchscreen Photo Frame</td>\n",
       "      <td>1.9</td>\n",
       "      <td>19.0</td>\n",
       "      <td>3.0M</td>\n",
       "      <td>21516.529524</td>\n",
       "      <td>Free</td>\n",
       "      <td>0</td>\n",
       "      <td>Everyone</td>\n",
       "      <td>NaN</td>\n",
       "      <td>February 11, 2018</td>\n",
       "      <td>1.0.19</td>\n",
       "      <td>4.0 and up</td>\n",
       "      <td>NaN</td>\n",
       "    </tr>\n",
       "  </tbody>\n",
       "</table>\n",
       "</div>"
      ],
      "text/plain": [
       "                                           App         Category  Rating  \\\n",
       "4453                    [substratum] Vacuum: P  PERSONALIZATION     4.4   \n",
       "4490                      Pi Dark [substratum]  PERSONALIZATION     4.5   \n",
       "10472  Life Made WI-Fi Touchscreen Photo Frame              1.9    19.0   \n",
       "\n",
       "      Reviews          Size Installs  Type     Price Content Rating  \\\n",
       "4453      230  11000.000000   1,000+  Paid     $1.49       Everyone   \n",
       "4490      189   2100.000000  10,000+  Free         0       Everyone   \n",
       "10472    3.0M  21516.529524     Free     0  Everyone            NaN   \n",
       "\n",
       "                  Genres    Last Updated Current Ver Android Ver  \n",
       "4453     Personalization   July 20, 2018         4.4         NaN  \n",
       "4490     Personalization  March 27, 2018         1.1         NaN  \n",
       "10472  February 11, 2018          1.0.19  4.0 and up         NaN  "
      ]
     },
     "execution_count": 8,
     "metadata": {},
     "output_type": "execute_result"
    }
   ],
   "source": [
    "#Inspect the nulls in the Android Version column\n",
    "data1[data1['Android Ver'].isnull()]"
   ]
  },
  {
   "cell_type": "code",
   "execution_count": 9,
   "id": "c0ff0943",
   "metadata": {
    "execution": {
     "iopub.execute_input": "2022-10-09T05:18:02.314383Z",
     "iopub.status.busy": "2022-10-09T05:18:02.313958Z",
     "iopub.status.idle": "2022-10-09T05:18:02.321765Z",
     "shell.execute_reply": "2022-10-09T05:18:02.320721Z"
    },
    "papermill": {
     "duration": 0.028836,
     "end_time": "2022-10-09T05:18:02.324159",
     "exception": false,
     "start_time": "2022-10-09T05:18:02.295323",
     "status": "completed"
    },
    "tags": []
   },
   "outputs": [
    {
     "data": {
      "text/plain": [
       "App               Life Made WI-Fi Touchscreen Photo Frame\n",
       "Category                                              1.9\n",
       "Rating                                               19.0\n",
       "Reviews                                              3.0M\n",
       "Size                                         21516.529524\n",
       "Installs                                             Free\n",
       "Type                                                    0\n",
       "Price                                            Everyone\n",
       "Content Rating                                        NaN\n",
       "Genres                                  February 11, 2018\n",
       "Last Updated                                       1.0.19\n",
       "Current Ver                                    4.0 and up\n",
       "Android Ver                                           NaN\n",
       "Name: 10472, dtype: object"
      ]
     },
     "execution_count": 9,
     "metadata": {},
     "output_type": "execute_result"
    }
   ],
   "source": [
    "#Drop the row having shifted values\n",
    "data1.loc[10472,:]  # But this is hard coded "
   ]
  },
  {
   "cell_type": "code",
   "execution_count": 10,
   "id": "fac5a0fb",
   "metadata": {
    "execution": {
     "iopub.execute_input": "2022-10-09T05:18:02.361316Z",
     "iopub.status.busy": "2022-10-09T05:18:02.360879Z",
     "iopub.status.idle": "2022-10-09T05:18:02.393023Z",
     "shell.execute_reply": "2022-10-09T05:18:02.391779Z"
    },
    "papermill": {
     "duration": 0.054533,
     "end_time": "2022-10-09T05:18:02.396216",
     "exception": false,
     "start_time": "2022-10-09T05:18:02.341683",
     "status": "completed"
    },
    "tags": []
   },
   "outputs": [
    {
     "name": "stderr",
     "output_type": "stream",
     "text": [
      "/opt/conda/lib/python3.7/site-packages/ipykernel_launcher.py:1: UserWarning: Boolean Series key will be reindexed to match DataFrame index.\n",
      "  \"\"\"Entry point for launching an IPython kernel.\n"
     ]
    },
    {
     "data": {
      "text/html": [
       "<div>\n",
       "<style scoped>\n",
       "    .dataframe tbody tr th:only-of-type {\n",
       "        vertical-align: middle;\n",
       "    }\n",
       "\n",
       "    .dataframe tbody tr th {\n",
       "        vertical-align: top;\n",
       "    }\n",
       "\n",
       "    .dataframe thead th {\n",
       "        text-align: right;\n",
       "    }\n",
       "</style>\n",
       "<table border=\"1\" class=\"dataframe\">\n",
       "  <thead>\n",
       "    <tr style=\"text-align: right;\">\n",
       "      <th></th>\n",
       "      <th>App</th>\n",
       "      <th>Category</th>\n",
       "      <th>Rating</th>\n",
       "      <th>Reviews</th>\n",
       "      <th>Size</th>\n",
       "      <th>Installs</th>\n",
       "      <th>Type</th>\n",
       "      <th>Price</th>\n",
       "      <th>Content Rating</th>\n",
       "      <th>Genres</th>\n",
       "      <th>Last Updated</th>\n",
       "      <th>Current Ver</th>\n",
       "      <th>Android Ver</th>\n",
       "    </tr>\n",
       "  </thead>\n",
       "  <tbody>\n",
       "    <tr>\n",
       "      <th>10472</th>\n",
       "      <td>Life Made WI-Fi Touchscreen Photo Frame</td>\n",
       "      <td>1.9</td>\n",
       "      <td>19.0</td>\n",
       "      <td>3.0M</td>\n",
       "      <td>21516.529524</td>\n",
       "      <td>Free</td>\n",
       "      <td>0</td>\n",
       "      <td>Everyone</td>\n",
       "      <td>NaN</td>\n",
       "      <td>February 11, 2018</td>\n",
       "      <td>1.0.19</td>\n",
       "      <td>4.0 and up</td>\n",
       "      <td>NaN</td>\n",
       "    </tr>\n",
       "  </tbody>\n",
       "</table>\n",
       "</div>"
      ],
      "text/plain": [
       "                                           App Category  Rating Reviews  \\\n",
       "10472  Life Made WI-Fi Touchscreen Photo Frame      1.9    19.0    3.0M   \n",
       "\n",
       "               Size Installs Type     Price Content Rating             Genres  \\\n",
       "10472  21516.529524     Free    0  Everyone            NaN  February 11, 2018   \n",
       "\n",
       "      Last Updated Current Ver Android Ver  \n",
       "10472       1.0.19  4.0 and up         NaN  "
      ]
     },
     "execution_count": 10,
     "metadata": {},
     "output_type": "execute_result"
    }
   ],
   "source": [
    "data1[data1['Android Ver'].isnull() & (data.Category=='1.9')]"
   ]
  },
  {
   "cell_type": "code",
   "execution_count": 11,
   "id": "06e1d90d",
   "metadata": {
    "execution": {
     "iopub.execute_input": "2022-10-09T05:18:02.434378Z",
     "iopub.status.busy": "2022-10-09T05:18:02.433924Z",
     "iopub.status.idle": "2022-10-09T05:18:02.450953Z",
     "shell.execute_reply": "2022-10-09T05:18:02.449689Z"
    },
    "papermill": {
     "duration": 0.039383,
     "end_time": "2022-10-09T05:18:02.453915",
     "exception": false,
     "start_time": "2022-10-09T05:18:02.414532",
     "status": "completed"
    },
    "tags": []
   },
   "outputs": [
    {
     "name": "stderr",
     "output_type": "stream",
     "text": [
      "/opt/conda/lib/python3.7/site-packages/ipykernel_launcher.py:1: UserWarning: Boolean Series key will be reindexed to match DataFrame index.\n",
      "  \"\"\"Entry point for launching an IPython kernel.\n"
     ]
    }
   ],
   "source": [
    "data1 = data1[~ (data1['Android Ver'].isnull() & (data.Category=='1.9'))]"
   ]
  },
  {
   "cell_type": "code",
   "execution_count": 12,
   "id": "268eb3d9",
   "metadata": {
    "execution": {
     "iopub.execute_input": "2022-10-09T05:18:02.494741Z",
     "iopub.status.busy": "2022-10-09T05:18:02.494312Z",
     "iopub.status.idle": "2022-10-09T05:18:02.517313Z",
     "shell.execute_reply": "2022-10-09T05:18:02.516144Z"
    },
    "papermill": {
     "duration": 0.046622,
     "end_time": "2022-10-09T05:18:02.519736",
     "exception": false,
     "start_time": "2022-10-09T05:18:02.473114",
     "status": "completed"
    },
    "tags": []
   },
   "outputs": [
    {
     "data": {
      "text/html": [
       "<div>\n",
       "<style scoped>\n",
       "    .dataframe tbody tr th:only-of-type {\n",
       "        vertical-align: middle;\n",
       "    }\n",
       "\n",
       "    .dataframe tbody tr th {\n",
       "        vertical-align: top;\n",
       "    }\n",
       "\n",
       "    .dataframe thead th {\n",
       "        text-align: right;\n",
       "    }\n",
       "</style>\n",
       "<table border=\"1\" class=\"dataframe\">\n",
       "  <thead>\n",
       "    <tr style=\"text-align: right;\">\n",
       "      <th></th>\n",
       "      <th>App</th>\n",
       "      <th>Category</th>\n",
       "      <th>Rating</th>\n",
       "      <th>Reviews</th>\n",
       "      <th>Size</th>\n",
       "      <th>Installs</th>\n",
       "      <th>Type</th>\n",
       "      <th>Price</th>\n",
       "      <th>Content Rating</th>\n",
       "      <th>Genres</th>\n",
       "      <th>Last Updated</th>\n",
       "      <th>Current Ver</th>\n",
       "      <th>Android Ver</th>\n",
       "    </tr>\n",
       "  </thead>\n",
       "  <tbody>\n",
       "    <tr>\n",
       "      <th>4453</th>\n",
       "      <td>[substratum] Vacuum: P</td>\n",
       "      <td>PERSONALIZATION</td>\n",
       "      <td>4.4</td>\n",
       "      <td>230</td>\n",
       "      <td>11000.0</td>\n",
       "      <td>1,000+</td>\n",
       "      <td>Paid</td>\n",
       "      <td>$1.49</td>\n",
       "      <td>Everyone</td>\n",
       "      <td>Personalization</td>\n",
       "      <td>July 20, 2018</td>\n",
       "      <td>4.4</td>\n",
       "      <td>NaN</td>\n",
       "    </tr>\n",
       "    <tr>\n",
       "      <th>4490</th>\n",
       "      <td>Pi Dark [substratum]</td>\n",
       "      <td>PERSONALIZATION</td>\n",
       "      <td>4.5</td>\n",
       "      <td>189</td>\n",
       "      <td>2100.0</td>\n",
       "      <td>10,000+</td>\n",
       "      <td>Free</td>\n",
       "      <td>0</td>\n",
       "      <td>Everyone</td>\n",
       "      <td>Personalization</td>\n",
       "      <td>March 27, 2018</td>\n",
       "      <td>1.1</td>\n",
       "      <td>NaN</td>\n",
       "    </tr>\n",
       "  </tbody>\n",
       "</table>\n",
       "</div>"
      ],
      "text/plain": [
       "                         App         Category  Rating Reviews     Size  \\\n",
       "4453  [substratum] Vacuum: P  PERSONALIZATION     4.4     230  11000.0   \n",
       "4490    Pi Dark [substratum]  PERSONALIZATION     4.5     189   2100.0   \n",
       "\n",
       "     Installs  Type  Price Content Rating           Genres    Last Updated  \\\n",
       "4453   1,000+  Paid  $1.49       Everyone  Personalization   July 20, 2018   \n",
       "4490  10,000+  Free      0       Everyone  Personalization  March 27, 2018   \n",
       "\n",
       "     Current Ver Android Ver  \n",
       "4453         4.4         NaN  \n",
       "4490         1.1         NaN  "
      ]
     },
     "execution_count": 12,
     "metadata": {},
     "output_type": "execute_result"
    }
   ],
   "source": [
    "data1[data1['Android Ver'].isnull()] \n",
    "\n",
    "#That particular record has been deleted from the dataframe now"
   ]
  },
  {
   "cell_type": "code",
   "execution_count": 13,
   "id": "2b72a164",
   "metadata": {
    "execution": {
     "iopub.execute_input": "2022-10-09T05:18:02.558141Z",
     "iopub.status.busy": "2022-10-09T05:18:02.557677Z",
     "iopub.status.idle": "2022-10-09T05:18:02.567965Z",
     "shell.execute_reply": "2022-10-09T05:18:02.566675Z"
    },
    "papermill": {
     "duration": 0.032525,
     "end_time": "2022-10-09T05:18:02.570357",
     "exception": false,
     "start_time": "2022-10-09T05:18:02.537832",
     "status": "completed"
    },
    "tags": []
   },
   "outputs": [
    {
     "data": {
      "text/plain": [
       "4.1 and up            2059\n",
       "Varies with device    1319\n",
       "4.0.3 and up          1240\n",
       "4.0 and up            1131\n",
       "4.4 and up             875\n",
       "2.3 and up             582\n",
       "5.0 and up             535\n",
       "4.2 and up             338\n",
       "2.3.3 and up           240\n",
       "3.0 and up             211\n",
       "2.2 and up             208\n",
       "4.3 and up             207\n",
       "2.1 and up             113\n",
       "1.6 and up              87\n",
       "6.0 and up              48\n",
       "7.0 and up              41\n",
       "3.2 and up              31\n",
       "2.0 and up              27\n",
       "5.1 and up              18\n",
       "1.5 and up              16\n",
       "3.1 and up               8\n",
       "2.0.1 and up             7\n",
       "4.4W and up              6\n",
       "8.0 and up               5\n",
       "7.1 and up               3\n",
       "4.0.3 - 7.1.1            2\n",
       "5.0 - 8.0                2\n",
       "1.0 and up               2\n",
       "7.0 - 7.1.1              1\n",
       "4.1 - 7.1.1              1\n",
       "5.0 - 6.0                1\n",
       "Name: Android Ver, dtype: int64"
      ]
     },
     "execution_count": 13,
     "metadata": {},
     "output_type": "execute_result"
    }
   ],
   "source": [
    "#Check the most common value in the Android version column\n",
    "data1['Android Ver'].value_counts()"
   ]
  },
  {
   "cell_type": "code",
   "execution_count": 14,
   "id": "74fbf752",
   "metadata": {
    "execution": {
     "iopub.execute_input": "2022-10-09T05:18:02.608368Z",
     "iopub.status.busy": "2022-10-09T05:18:02.607599Z",
     "iopub.status.idle": "2022-10-09T05:18:02.615383Z",
     "shell.execute_reply": "2022-10-09T05:18:02.614345Z"
    },
    "papermill": {
     "duration": 0.029041,
     "end_time": "2022-10-09T05:18:02.617447",
     "exception": false,
     "start_time": "2022-10-09T05:18:02.588406",
     "status": "completed"
    },
    "tags": []
   },
   "outputs": [
    {
     "data": {
      "text/plain": [
       "'4.1 and up'"
      ]
     },
     "execution_count": 14,
     "metadata": {},
     "output_type": "execute_result"
    }
   ],
   "source": [
    "data1['Android Ver'].mode()[0]"
   ]
  },
  {
   "cell_type": "code",
   "execution_count": 15,
   "id": "09027ea5",
   "metadata": {
    "execution": {
     "iopub.execute_input": "2022-10-09T05:18:02.655618Z",
     "iopub.status.busy": "2022-10-09T05:18:02.655200Z",
     "iopub.status.idle": "2022-10-09T05:18:02.668597Z",
     "shell.execute_reply": "2022-10-09T05:18:02.667405Z"
    },
    "papermill": {
     "duration": 0.035123,
     "end_time": "2022-10-09T05:18:02.670863",
     "exception": false,
     "start_time": "2022-10-09T05:18:02.635740",
     "status": "completed"
    },
    "tags": []
   },
   "outputs": [
    {
     "data": {
      "text/plain": [
       "4.1 and up            2061\n",
       "Varies with device    1319\n",
       "4.0.3 and up          1240\n",
       "4.0 and up            1131\n",
       "4.4 and up             875\n",
       "2.3 and up             582\n",
       "5.0 and up             535\n",
       "4.2 and up             338\n",
       "2.3.3 and up           240\n",
       "3.0 and up             211\n",
       "2.2 and up             208\n",
       "4.3 and up             207\n",
       "2.1 and up             113\n",
       "1.6 and up              87\n",
       "6.0 and up              48\n",
       "7.0 and up              41\n",
       "3.2 and up              31\n",
       "2.0 and up              27\n",
       "5.1 and up              18\n",
       "1.5 and up              16\n",
       "3.1 and up               8\n",
       "2.0.1 and up             7\n",
       "4.4W and up              6\n",
       "8.0 and up               5\n",
       "7.1 and up               3\n",
       "4.0.3 - 7.1.1            2\n",
       "5.0 - 8.0                2\n",
       "1.0 and up               2\n",
       "7.0 - 7.1.1              1\n",
       "4.1 - 7.1.1              1\n",
       "5.0 - 6.0                1\n",
       "Name: Android Ver, dtype: int64"
      ]
     },
     "execution_count": 15,
     "metadata": {},
     "output_type": "execute_result"
    }
   ],
   "source": [
    "#Fill up the nulls in the Android Version column with the above value\n",
    "data1['Android Ver'] = data1['Android Ver'].fillna(data1['Android Ver'].mode()[0])\n",
    "data1['Android Ver'].value_counts()"
   ]
  },
  {
   "cell_type": "code",
   "execution_count": 16,
   "id": "94ff2f8f",
   "metadata": {
    "execution": {
     "iopub.execute_input": "2022-10-09T05:18:02.710133Z",
     "iopub.status.busy": "2022-10-09T05:18:02.709712Z",
     "iopub.status.idle": "2022-10-09T05:18:02.717333Z",
     "shell.execute_reply": "2022-10-09T05:18:02.716489Z"
    },
    "papermill": {
     "duration": 0.029818,
     "end_time": "2022-10-09T05:18:02.719583",
     "exception": false,
     "start_time": "2022-10-09T05:18:02.689765",
     "status": "completed"
    },
    "tags": []
   },
   "outputs": [
    {
     "data": {
      "text/plain": [
       "0"
      ]
     },
     "execution_count": 16,
     "metadata": {},
     "output_type": "execute_result"
    }
   ],
   "source": [
    "data1['Android Ver'].isnull().sum()  #Cleaned for this column"
   ]
  },
  {
   "cell_type": "code",
   "execution_count": 17,
   "id": "f597fa99",
   "metadata": {
    "execution": {
     "iopub.execute_input": "2022-10-09T05:18:02.759297Z",
     "iopub.status.busy": "2022-10-09T05:18:02.758866Z",
     "iopub.status.idle": "2022-10-09T05:18:02.773013Z",
     "shell.execute_reply": "2022-10-09T05:18:02.771946Z"
    },
    "papermill": {
     "duration": 0.036935,
     "end_time": "2022-10-09T05:18:02.775290",
     "exception": false,
     "start_time": "2022-10-09T05:18:02.738355",
     "status": "completed"
    },
    "tags": []
   },
   "outputs": [
    {
     "data": {
      "text/plain": [
       "App               0\n",
       "Category          0\n",
       "Rating            0\n",
       "Reviews           0\n",
       "Size              0\n",
       "Installs          0\n",
       "Type              0\n",
       "Price             0\n",
       "Content Rating    0\n",
       "Genres            0\n",
       "Last Updated      0\n",
       "Current Ver       4\n",
       "Android Ver       0\n",
       "dtype: int64"
      ]
     },
     "execution_count": 17,
     "metadata": {},
     "output_type": "execute_result"
    }
   ],
   "source": [
    "data1.isnull().sum()"
   ]
  },
  {
   "cell_type": "code",
   "execution_count": 18,
   "id": "70324b93",
   "metadata": {
    "execution": {
     "iopub.execute_input": "2022-10-09T05:18:02.814303Z",
     "iopub.status.busy": "2022-10-09T05:18:02.813856Z",
     "iopub.status.idle": "2022-10-09T05:18:02.823373Z",
     "shell.execute_reply": "2022-10-09T05:18:02.822338Z"
    },
    "papermill": {
     "duration": 0.031857,
     "end_time": "2022-10-09T05:18:02.825740",
     "exception": false,
     "start_time": "2022-10-09T05:18:02.793883",
     "status": "completed"
    },
    "tags": []
   },
   "outputs": [
    {
     "data": {
      "text/plain": [
       "0    Varies with device\n",
       "dtype: object"
      ]
     },
     "execution_count": 18,
     "metadata": {},
     "output_type": "execute_result"
    }
   ],
   "source": [
    "data1['Current Ver'].mode()"
   ]
  },
  {
   "cell_type": "code",
   "execution_count": 19,
   "id": "77ec5055",
   "metadata": {
    "execution": {
     "iopub.execute_input": "2022-10-09T05:18:02.866669Z",
     "iopub.status.busy": "2022-10-09T05:18:02.866271Z",
     "iopub.status.idle": "2022-10-09T05:18:02.875774Z",
     "shell.execute_reply": "2022-10-09T05:18:02.874569Z"
    },
    "papermill": {
     "duration": 0.03302,
     "end_time": "2022-10-09T05:18:02.878111",
     "exception": false,
     "start_time": "2022-10-09T05:18:02.845091",
     "status": "completed"
    },
    "tags": []
   },
   "outputs": [
    {
     "data": {
      "text/plain": [
       "'Varies with device'"
      ]
     },
     "execution_count": 19,
     "metadata": {},
     "output_type": "execute_result"
    }
   ],
   "source": [
    "data1['Current Ver'].mode()[0]"
   ]
  },
  {
   "cell_type": "code",
   "execution_count": 20,
   "id": "3f9b8104",
   "metadata": {
    "execution": {
     "iopub.execute_input": "2022-10-09T05:18:02.918362Z",
     "iopub.status.busy": "2022-10-09T05:18:02.917782Z",
     "iopub.status.idle": "2022-10-09T05:18:02.942048Z",
     "shell.execute_reply": "2022-10-09T05:18:02.941050Z"
    },
    "papermill": {
     "duration": 0.047236,
     "end_time": "2022-10-09T05:18:02.944446",
     "exception": false,
     "start_time": "2022-10-09T05:18:02.897210",
     "status": "completed"
    },
    "tags": []
   },
   "outputs": [
    {
     "data": {
      "text/plain": [
       "Varies with device    1419\n",
       "1.0                    458\n",
       "1.1                    195\n",
       "1.2                    126\n",
       "1.3                    120\n",
       "                      ... \n",
       "2.9.10                   1\n",
       "3.18.5                   1\n",
       "1.3.A.2.9                1\n",
       "9.9.1.1910               1\n",
       "0.3.4                    1\n",
       "Name: Current Ver, Length: 2638, dtype: int64"
      ]
     },
     "execution_count": 20,
     "metadata": {},
     "output_type": "execute_result"
    }
   ],
   "source": [
    "data1['Current Ver'] = data1['Current Ver'].fillna(data1['Current Ver'].mode()[0])\n",
    "data1['Current Ver'].value_counts()"
   ]
  },
  {
   "cell_type": "code",
   "execution_count": 21,
   "id": "2dc4a028",
   "metadata": {
    "execution": {
     "iopub.execute_input": "2022-10-09T05:18:03.001590Z",
     "iopub.status.busy": "2022-10-09T05:18:03.000725Z",
     "iopub.status.idle": "2022-10-09T05:18:03.011024Z",
     "shell.execute_reply": "2022-10-09T05:18:03.009813Z"
    },
    "papermill": {
     "duration": 0.044466,
     "end_time": "2022-10-09T05:18:03.014343",
     "exception": false,
     "start_time": "2022-10-09T05:18:02.969877",
     "status": "completed"
    },
    "tags": []
   },
   "outputs": [
    {
     "name": "stdout",
     "output_type": "stream",
     "text": [
      "0\n",
      "Varies with device    1419\n",
      "1.0                    458\n",
      "1.1                    195\n",
      "1.2                    126\n",
      "1.3                    120\n",
      "                      ... \n",
      "2.9.10                   1\n",
      "3.18.5                   1\n",
      "1.3.A.2.9                1\n",
      "9.9.1.1910               1\n",
      "0.3.4                    1\n",
      "Name: Current Ver, Length: 2638, dtype: int64\n"
     ]
    }
   ],
   "source": [
    "print(data1['Current Ver'].isnull().sum())\n",
    "print(data1['Current Ver'].value_counts())"
   ]
  },
  {
   "cell_type": "code",
   "execution_count": 22,
   "id": "4ceba0da",
   "metadata": {
    "execution": {
     "iopub.execute_input": "2022-10-09T05:18:03.065396Z",
     "iopub.status.busy": "2022-10-09T05:18:03.064712Z",
     "iopub.status.idle": "2022-10-09T05:18:03.074785Z",
     "shell.execute_reply": "2022-10-09T05:18:03.073387Z"
    },
    "papermill": {
     "duration": 0.035279,
     "end_time": "2022-10-09T05:18:03.077238",
     "exception": false,
     "start_time": "2022-10-09T05:18:03.041959",
     "status": "completed"
    },
    "tags": []
   },
   "outputs": [
    {
     "data": {
      "text/plain": [
       "App                object\n",
       "Category           object\n",
       "Rating            float64\n",
       "Reviews            object\n",
       "Size              float64\n",
       "Installs           object\n",
       "Type               object\n",
       "Price              object\n",
       "Content Rating     object\n",
       "Genres             object\n",
       "Last Updated       object\n",
       "Current Ver        object\n",
       "Android Ver        object\n",
       "dtype: object"
      ]
     },
     "execution_count": 22,
     "metadata": {},
     "output_type": "execute_result"
    }
   ],
   "source": [
    "#Check the datatypes of all the columns \n",
    "data1.dtypes"
   ]
  },
  {
   "cell_type": "code",
   "execution_count": 23,
   "id": "a70ea395",
   "metadata": {
    "execution": {
     "iopub.execute_input": "2022-10-09T05:18:03.129344Z",
     "iopub.status.busy": "2022-10-09T05:18:03.128155Z",
     "iopub.status.idle": "2022-10-09T05:18:03.148297Z",
     "shell.execute_reply": "2022-10-09T05:18:03.147389Z"
    },
    "papermill": {
     "duration": 0.052426,
     "end_time": "2022-10-09T05:18:03.151010",
     "exception": false,
     "start_time": "2022-10-09T05:18:03.098584",
     "status": "completed"
    },
    "tags": []
   },
   "outputs": [
    {
     "data": {
      "text/html": [
       "<div>\n",
       "<style scoped>\n",
       "    .dataframe tbody tr th:only-of-type {\n",
       "        vertical-align: middle;\n",
       "    }\n",
       "\n",
       "    .dataframe tbody tr th {\n",
       "        vertical-align: top;\n",
       "    }\n",
       "\n",
       "    .dataframe thead th {\n",
       "        text-align: right;\n",
       "    }\n",
       "</style>\n",
       "<table border=\"1\" class=\"dataframe\">\n",
       "  <thead>\n",
       "    <tr style=\"text-align: right;\">\n",
       "      <th></th>\n",
       "      <th>App</th>\n",
       "      <th>Category</th>\n",
       "      <th>Rating</th>\n",
       "      <th>Reviews</th>\n",
       "      <th>Size</th>\n",
       "      <th>Installs</th>\n",
       "      <th>Type</th>\n",
       "      <th>Price</th>\n",
       "      <th>Content Rating</th>\n",
       "      <th>Genres</th>\n",
       "      <th>Last Updated</th>\n",
       "      <th>Current Ver</th>\n",
       "      <th>Android Ver</th>\n",
       "    </tr>\n",
       "  </thead>\n",
       "  <tbody>\n",
       "    <tr>\n",
       "      <th>0</th>\n",
       "      <td>Photo Editor &amp; Candy Camera &amp; Grid &amp; ScrapBook</td>\n",
       "      <td>ART_AND_DESIGN</td>\n",
       "      <td>4.1</td>\n",
       "      <td>159</td>\n",
       "      <td>19000.0</td>\n",
       "      <td>10,000+</td>\n",
       "      <td>Free</td>\n",
       "      <td>0</td>\n",
       "      <td>Everyone</td>\n",
       "      <td>Art &amp; Design</td>\n",
       "      <td>January 7, 2018</td>\n",
       "      <td>1.0.0</td>\n",
       "      <td>4.0.3 and up</td>\n",
       "    </tr>\n",
       "    <tr>\n",
       "      <th>1</th>\n",
       "      <td>Coloring book moana</td>\n",
       "      <td>ART_AND_DESIGN</td>\n",
       "      <td>3.9</td>\n",
       "      <td>967</td>\n",
       "      <td>14000.0</td>\n",
       "      <td>500,000+</td>\n",
       "      <td>Free</td>\n",
       "      <td>0</td>\n",
       "      <td>Everyone</td>\n",
       "      <td>Art &amp; Design;Pretend Play</td>\n",
       "      <td>January 15, 2018</td>\n",
       "      <td>2.0.0</td>\n",
       "      <td>4.0.3 and up</td>\n",
       "    </tr>\n",
       "    <tr>\n",
       "      <th>2</th>\n",
       "      <td>U Launcher Lite – FREE Live Cool Themes, Hide ...</td>\n",
       "      <td>ART_AND_DESIGN</td>\n",
       "      <td>4.7</td>\n",
       "      <td>87510</td>\n",
       "      <td>8700.0</td>\n",
       "      <td>5,000,000+</td>\n",
       "      <td>Free</td>\n",
       "      <td>0</td>\n",
       "      <td>Everyone</td>\n",
       "      <td>Art &amp; Design</td>\n",
       "      <td>August 1, 2018</td>\n",
       "      <td>1.2.4</td>\n",
       "      <td>4.0.3 and up</td>\n",
       "    </tr>\n",
       "    <tr>\n",
       "      <th>3</th>\n",
       "      <td>Sketch - Draw &amp; Paint</td>\n",
       "      <td>ART_AND_DESIGN</td>\n",
       "      <td>4.5</td>\n",
       "      <td>215644</td>\n",
       "      <td>25000.0</td>\n",
       "      <td>50,000,000+</td>\n",
       "      <td>Free</td>\n",
       "      <td>0</td>\n",
       "      <td>Teen</td>\n",
       "      <td>Art &amp; Design</td>\n",
       "      <td>June 8, 2018</td>\n",
       "      <td>Varies with device</td>\n",
       "      <td>4.2 and up</td>\n",
       "    </tr>\n",
       "    <tr>\n",
       "      <th>4</th>\n",
       "      <td>Pixel Draw - Number Art Coloring Book</td>\n",
       "      <td>ART_AND_DESIGN</td>\n",
       "      <td>4.3</td>\n",
       "      <td>967</td>\n",
       "      <td>2800.0</td>\n",
       "      <td>100,000+</td>\n",
       "      <td>Free</td>\n",
       "      <td>0</td>\n",
       "      <td>Everyone</td>\n",
       "      <td>Art &amp; Design;Creativity</td>\n",
       "      <td>June 20, 2018</td>\n",
       "      <td>1.1</td>\n",
       "      <td>4.4 and up</td>\n",
       "    </tr>\n",
       "  </tbody>\n",
       "</table>\n",
       "</div>"
      ],
      "text/plain": [
       "                                                 App        Category  Rating  \\\n",
       "0     Photo Editor & Candy Camera & Grid & ScrapBook  ART_AND_DESIGN     4.1   \n",
       "1                                Coloring book moana  ART_AND_DESIGN     3.9   \n",
       "2  U Launcher Lite – FREE Live Cool Themes, Hide ...  ART_AND_DESIGN     4.7   \n",
       "3                              Sketch - Draw & Paint  ART_AND_DESIGN     4.5   \n",
       "4              Pixel Draw - Number Art Coloring Book  ART_AND_DESIGN     4.3   \n",
       "\n",
       "  Reviews     Size     Installs  Type Price Content Rating  \\\n",
       "0     159  19000.0      10,000+  Free     0       Everyone   \n",
       "1     967  14000.0     500,000+  Free     0       Everyone   \n",
       "2   87510   8700.0   5,000,000+  Free     0       Everyone   \n",
       "3  215644  25000.0  50,000,000+  Free     0           Teen   \n",
       "4     967   2800.0     100,000+  Free     0       Everyone   \n",
       "\n",
       "                      Genres      Last Updated         Current Ver  \\\n",
       "0               Art & Design   January 7, 2018               1.0.0   \n",
       "1  Art & Design;Pretend Play  January 15, 2018               2.0.0   \n",
       "2               Art & Design    August 1, 2018               1.2.4   \n",
       "3               Art & Design      June 8, 2018  Varies with device   \n",
       "4    Art & Design;Creativity     June 20, 2018                 1.1   \n",
       "\n",
       "    Android Ver  \n",
       "0  4.0.3 and up  \n",
       "1  4.0.3 and up  \n",
       "2  4.0.3 and up  \n",
       "3    4.2 and up  \n",
       "4    4.4 and up  "
      ]
     },
     "execution_count": 23,
     "metadata": {},
     "output_type": "execute_result"
    }
   ],
   "source": [
    "data1.head()"
   ]
  },
  {
   "cell_type": "code",
   "execution_count": 24,
   "id": "f161d909",
   "metadata": {
    "execution": {
     "iopub.execute_input": "2022-10-09T05:18:03.196536Z",
     "iopub.status.busy": "2022-10-09T05:18:03.195522Z",
     "iopub.status.idle": "2022-10-09T05:18:03.204915Z",
     "shell.execute_reply": "2022-10-09T05:18:03.203836Z"
    },
    "papermill": {
     "duration": 0.034418,
     "end_time": "2022-10-09T05:18:03.207890",
     "exception": false,
     "start_time": "2022-10-09T05:18:03.173472",
     "status": "completed"
    },
    "tags": []
   },
   "outputs": [
    {
     "data": {
      "text/plain": [
       "0          8719\n",
       "$2.99       114\n",
       "$0.99       107\n",
       "$4.99        70\n",
       "$1.99        59\n",
       "           ... \n",
       "$1.29         1\n",
       "$299.99       1\n",
       "$379.99       1\n",
       "$37.99        1\n",
       "$1.20         1\n",
       "Name: Price, Length: 73, dtype: int64"
      ]
     },
     "execution_count": 24,
     "metadata": {},
     "output_type": "execute_result"
    }
   ],
   "source": [
    "data1.Price.value_counts()"
   ]
  },
  {
   "cell_type": "markdown",
   "id": "c06685f4",
   "metadata": {
    "papermill": {
     "duration": 0.024884,
     "end_time": "2022-10-09T05:18:03.258013",
     "exception": false,
     "start_time": "2022-10-09T05:18:03.233129",
     "status": "completed"
    },
    "tags": []
   },
   "source": [
    "**As you saw in the video, the Price column had an additional ‘$’**\n",
    "**sign for every paid app that was visible clearly once we used the value_counts() function. This resulted in the column being treated as an object instead of a float-type value. So, your first task was to clean those columns**"
   ]
  },
  {
   "cell_type": "code",
   "execution_count": 25,
   "id": "400fbceb",
   "metadata": {
    "execution": {
     "iopub.execute_input": "2022-10-09T05:18:03.303399Z",
     "iopub.status.busy": "2022-10-09T05:18:03.302406Z",
     "iopub.status.idle": "2022-10-09T05:18:03.317626Z",
     "shell.execute_reply": "2022-10-09T05:18:03.316385Z"
    },
    "papermill": {
     "duration": 0.04219,
     "end_time": "2022-10-09T05:18:03.320884",
     "exception": false,
     "start_time": "2022-10-09T05:18:03.278694",
     "status": "completed"
    },
    "tags": []
   },
   "outputs": [
    {
     "data": {
      "text/plain": [
       "App                object\n",
       "Category           object\n",
       "Rating            float64\n",
       "Reviews            object\n",
       "Size              float64\n",
       "Installs           object\n",
       "Type               object\n",
       "Price             float64\n",
       "Content Rating     object\n",
       "Genres             object\n",
       "Last Updated       object\n",
       "Current Ver        object\n",
       "Android Ver        object\n",
       "dtype: object"
      ]
     },
     "execution_count": 25,
     "metadata": {},
     "output_type": "execute_result"
    }
   ],
   "source": [
    "#Write the function to make the changes\n",
    "data1.Price = data1.Price.apply(lambda x :0 if x ==\"0\" else float(x[1:]) )\n",
    "data1.dtypes"
   ]
  },
  {
   "cell_type": "code",
   "execution_count": 26,
   "id": "a44b7080",
   "metadata": {
    "execution": {
     "iopub.execute_input": "2022-10-09T05:18:03.372883Z",
     "iopub.status.busy": "2022-10-09T05:18:03.371599Z",
     "iopub.status.idle": "2022-10-09T05:18:03.383912Z",
     "shell.execute_reply": "2022-10-09T05:18:03.383090Z"
    },
    "papermill": {
     "duration": 0.043538,
     "end_time": "2022-10-09T05:18:03.386758",
     "exception": false,
     "start_time": "2022-10-09T05:18:03.343220",
     "status": "completed"
    },
    "tags": []
   },
   "outputs": [
    {
     "data": {
      "text/plain": [
       "0.00      8719\n",
       "2.99       114\n",
       "0.99       107\n",
       "4.99        70\n",
       "1.99        59\n",
       "          ... \n",
       "1.29         1\n",
       "299.99       1\n",
       "379.99       1\n",
       "37.99        1\n",
       "1.20         1\n",
       "Name: Price, Length: 73, dtype: int64"
      ]
     },
     "execution_count": 26,
     "metadata": {},
     "output_type": "execute_result"
    }
   ],
   "source": [
    "data1.Price.value_counts()"
   ]
  },
  {
   "cell_type": "code",
   "execution_count": 27,
   "id": "7438abeb",
   "metadata": {
    "execution": {
     "iopub.execute_input": "2022-10-09T05:18:03.433178Z",
     "iopub.status.busy": "2022-10-09T05:18:03.432787Z",
     "iopub.status.idle": "2022-10-09T05:18:03.450522Z",
     "shell.execute_reply": "2022-10-09T05:18:03.449100Z"
    },
    "papermill": {
     "duration": 0.042152,
     "end_time": "2022-10-09T05:18:03.453712",
     "exception": false,
     "start_time": "2022-10-09T05:18:03.411560",
     "status": "completed"
    },
    "tags": []
   },
   "outputs": [
    {
     "data": {
      "text/plain": [
       "2         83\n",
       "3         78\n",
       "4         74\n",
       "5         74\n",
       "1         67\n",
       "          ..\n",
       "49657      1\n",
       "41420      1\n",
       "7146       1\n",
       "44706      1\n",
       "398307     1\n",
       "Name: Reviews, Length: 5992, dtype: int64"
      ]
     },
     "execution_count": 27,
     "metadata": {},
     "output_type": "execute_result"
    }
   ],
   "source": [
    "#Analyse the Reviews column\n",
    "data1.Reviews.value_counts()"
   ]
  },
  {
   "cell_type": "code",
   "execution_count": 28,
   "id": "692d36dd",
   "metadata": {
    "execution": {
     "iopub.execute_input": "2022-10-09T05:18:03.501945Z",
     "iopub.status.busy": "2022-10-09T05:18:03.500661Z",
     "iopub.status.idle": "2022-10-09T05:18:03.513982Z",
     "shell.execute_reply": "2022-10-09T05:18:03.512867Z"
    },
    "papermill": {
     "duration": 0.040582,
     "end_time": "2022-10-09T05:18:03.516211",
     "exception": false,
     "start_time": "2022-10-09T05:18:03.475629",
     "status": "completed"
    },
    "tags": []
   },
   "outputs": [
    {
     "data": {
      "text/plain": [
       "2         83\n",
       "3         78\n",
       "4         74\n",
       "5         74\n",
       "1         67\n",
       "          ..\n",
       "49657      1\n",
       "41420      1\n",
       "7146       1\n",
       "44706      1\n",
       "398307     1\n",
       "Name: Reviews, Length: 5992, dtype: int64"
      ]
     },
     "execution_count": 28,
     "metadata": {},
     "output_type": "execute_result"
    }
   ],
   "source": [
    "data1.Reviews = data1.Reviews.astype(\"int32\")\n",
    "data1.Reviews.value_counts()"
   ]
  },
  {
   "cell_type": "code",
   "execution_count": 29,
   "id": "4f0c162d",
   "metadata": {
    "execution": {
     "iopub.execute_input": "2022-10-09T05:18:03.559564Z",
     "iopub.status.busy": "2022-10-09T05:18:03.558423Z",
     "iopub.status.idle": "2022-10-09T05:18:03.573622Z",
     "shell.execute_reply": "2022-10-09T05:18:03.572519Z"
    },
    "papermill": {
     "duration": 0.039421,
     "end_time": "2022-10-09T05:18:03.576036",
     "exception": false,
     "start_time": "2022-10-09T05:18:03.536615",
     "status": "completed"
    },
    "tags": []
   },
   "outputs": [
    {
     "data": {
      "text/plain": [
       "count    9.366000e+03\n",
       "mean     5.140498e+05\n",
       "std      3.144042e+06\n",
       "min      1.000000e+00\n",
       "25%      1.862500e+02\n",
       "50%      5.930500e+03\n",
       "75%      8.153275e+04\n",
       "max      7.815831e+07\n",
       "Name: Reviews, dtype: float64"
      ]
     },
     "execution_count": 29,
     "metadata": {},
     "output_type": "execute_result"
    }
   ],
   "source": [
    "data1.Reviews.describe()"
   ]
  },
  {
   "cell_type": "markdown",
   "id": "032e344b",
   "metadata": {
    "papermill": {
     "duration": 0.020076,
     "end_time": "2022-10-09T05:18:03.616166",
     "exception": false,
     "start_time": "2022-10-09T05:18:03.596090",
     "status": "completed"
    },
    "tags": []
   },
   "source": [
    "Handle Install Column:"
   ]
  },
  {
   "cell_type": "code",
   "execution_count": 30,
   "id": "5e22e002",
   "metadata": {
    "execution": {
     "iopub.execute_input": "2022-10-09T05:18:03.661887Z",
     "iopub.status.busy": "2022-10-09T05:18:03.660203Z",
     "iopub.status.idle": "2022-10-09T05:18:03.667105Z",
     "shell.execute_reply": "2022-10-09T05:18:03.666175Z"
    },
    "papermill": {
     "duration": 0.031763,
     "end_time": "2022-10-09T05:18:03.669563",
     "exception": false,
     "start_time": "2022-10-09T05:18:03.637800",
     "status": "completed"
    },
    "tags": []
   },
   "outputs": [],
   "source": [
    "def clean_Installs(val):\n",
    "    \n",
    "    return int(val.replace(\",\",\"\").replace(\"+\",\"\").replace(\" \", \"\"))"
   ]
  },
  {
   "cell_type": "code",
   "execution_count": 31,
   "id": "35d86217",
   "metadata": {
    "execution": {
     "iopub.execute_input": "2022-10-09T05:18:03.712707Z",
     "iopub.status.busy": "2022-10-09T05:18:03.712295Z",
     "iopub.status.idle": "2022-10-09T05:18:03.719475Z",
     "shell.execute_reply": "2022-10-09T05:18:03.718268Z"
    },
    "papermill": {
     "duration": 0.031418,
     "end_time": "2022-10-09T05:18:03.721943",
     "exception": false,
     "start_time": "2022-10-09T05:18:03.690525",
     "status": "completed"
    },
    "tags": []
   },
   "outputs": [
    {
     "data": {
      "text/plain": [
       "int"
      ]
     },
     "execution_count": 31,
     "metadata": {},
     "output_type": "execute_result"
    }
   ],
   "source": [
    "type(clean_Installs('30,0+'))"
   ]
  },
  {
   "cell_type": "code",
   "execution_count": 32,
   "id": "6218644d",
   "metadata": {
    "execution": {
     "iopub.execute_input": "2022-10-09T05:18:03.765527Z",
     "iopub.status.busy": "2022-10-09T05:18:03.764997Z",
     "iopub.status.idle": "2022-10-09T05:18:03.782331Z",
     "shell.execute_reply": "2022-10-09T05:18:03.781047Z"
    },
    "papermill": {
     "duration": 0.041632,
     "end_time": "2022-10-09T05:18:03.784575",
     "exception": false,
     "start_time": "2022-10-09T05:18:03.742943",
     "status": "completed"
    },
    "tags": []
   },
   "outputs": [],
   "source": [
    "data1['Installs'] = data1['Installs'].apply(clean_Installs)"
   ]
  },
  {
   "cell_type": "code",
   "execution_count": 33,
   "id": "434e80f0",
   "metadata": {
    "execution": {
     "iopub.execute_input": "2022-10-09T05:18:03.827881Z",
     "iopub.status.busy": "2022-10-09T05:18:03.827093Z",
     "iopub.status.idle": "2022-10-09T05:18:03.839477Z",
     "shell.execute_reply": "2022-10-09T05:18:03.838429Z"
    },
    "papermill": {
     "duration": 0.036817,
     "end_time": "2022-10-09T05:18:03.841741",
     "exception": false,
     "start_time": "2022-10-09T05:18:03.804924",
     "status": "completed"
    },
    "tags": []
   },
   "outputs": [
    {
     "data": {
      "text/plain": [
       "count    9.366000e+03\n",
       "mean     1.789744e+07\n",
       "std      9.123822e+07\n",
       "min      1.000000e+00\n",
       "25%      1.000000e+04\n",
       "50%      5.000000e+05\n",
       "75%      5.000000e+06\n",
       "max      1.000000e+09\n",
       "Name: Installs, dtype: float64"
      ]
     },
     "execution_count": 33,
     "metadata": {},
     "output_type": "execute_result"
    }
   ],
   "source": [
    "data1.Installs.describe()"
   ]
  },
  {
   "cell_type": "markdown",
   "id": "d71ab4ef",
   "metadata": {
    "papermill": {
     "duration": 0.020011,
     "end_time": "2022-10-09T05:18:03.882306",
     "exception": false,
     "start_time": "2022-10-09T05:18:03.862295",
     "status": "completed"
    },
    "tags": []
   },
   "source": [
    "# Sanity Checks"
   ]
  },
  {
   "cell_type": "markdown",
   "id": "42a19512",
   "metadata": {
    "papermill": {
     "duration": 0.021395,
     "end_time": "2022-10-09T05:18:03.926867",
     "exception": false,
     "start_time": "2022-10-09T05:18:03.905472",
     "status": "completed"
    },
    "tags": []
   },
   "source": [
    "The data that we have needs to make sense and therefore you can perform certain sanity checks on them to ensure they are factually correct as well. Some sanity checks can be:\n",
    "\n",
    "- Rating is between 1 and 5 for all the apps.\n",
    "- Number of Reviews is less than or equal to the number of Installs.\n",
    "- Free Apps shouldn’t have a price greater than 0.\n"
   ]
  },
  {
   "cell_type": "code",
   "execution_count": 34,
   "id": "471f0dad",
   "metadata": {
    "execution": {
     "iopub.execute_input": "2022-10-09T05:18:03.971874Z",
     "iopub.status.busy": "2022-10-09T05:18:03.971435Z",
     "iopub.status.idle": "2022-10-09T05:18:03.983168Z",
     "shell.execute_reply": "2022-10-09T05:18:03.982005Z"
    },
    "papermill": {
     "duration": 0.037714,
     "end_time": "2022-10-09T05:18:03.985419",
     "exception": false,
     "start_time": "2022-10-09T05:18:03.947705",
     "status": "completed"
    },
    "tags": []
   },
   "outputs": [
    {
     "data": {
      "text/plain": [
       "count    9366.000000\n",
       "mean        4.191757\n",
       "std         0.515219\n",
       "min         1.000000\n",
       "25%         4.000000\n",
       "50%         4.300000\n",
       "75%         4.500000\n",
       "max         5.000000\n",
       "Name: Rating, dtype: float64"
      ]
     },
     "execution_count": 34,
     "metadata": {},
     "output_type": "execute_result"
    }
   ],
   "source": [
    "data1.Rating.describe()"
   ]
  },
  {
   "cell_type": "code",
   "execution_count": 35,
   "id": "2f23cecb",
   "metadata": {
    "execution": {
     "iopub.execute_input": "2022-10-09T05:18:04.029635Z",
     "iopub.status.busy": "2022-10-09T05:18:04.028932Z",
     "iopub.status.idle": "2022-10-09T05:18:04.036398Z",
     "shell.execute_reply": "2022-10-09T05:18:04.035612Z"
    },
    "papermill": {
     "duration": 0.031977,
     "end_time": "2022-10-09T05:18:04.038478",
     "exception": false,
     "start_time": "2022-10-09T05:18:04.006501",
     "status": "completed"
    },
    "tags": []
   },
   "outputs": [
    {
     "data": {
      "text/plain": [
       "(7, 13)"
      ]
     },
     "execution_count": 35,
     "metadata": {},
     "output_type": "execute_result"
    }
   ],
   "source": [
    "# Reviews should be <= Installs. As First User will install and then it can review.\n",
    "data1[(data1['Reviews']> data1['Installs'])].shape"
   ]
  },
  {
   "cell_type": "markdown",
   "id": "dda521d0",
   "metadata": {
    "papermill": {
     "duration": 0.020274,
     "end_time": "2022-10-09T05:18:04.080123",
     "exception": false,
     "start_time": "2022-10-09T05:18:04.059849",
     "status": "completed"
    },
    "tags": []
   },
   "source": [
    "We have 7 records here. Which should not be the case. There is something fishy for these Apps. As reviews are recived before its even installed."
   ]
  },
  {
   "cell_type": "code",
   "execution_count": 36,
   "id": "9f622718",
   "metadata": {
    "execution": {
     "iopub.execute_input": "2022-10-09T05:18:04.123207Z",
     "iopub.status.busy": "2022-10-09T05:18:04.122775Z",
     "iopub.status.idle": "2022-10-09T05:18:04.130618Z",
     "shell.execute_reply": "2022-10-09T05:18:04.129278Z"
    },
    "papermill": {
     "duration": 0.032739,
     "end_time": "2022-10-09T05:18:04.133403",
     "exception": false,
     "start_time": "2022-10-09T05:18:04.100664",
     "status": "completed"
    },
    "tags": []
   },
   "outputs": [],
   "source": [
    "#Perform the sanity checks on the Reviews column\n",
    "data1 = data1[data1.Reviews<=data1.Installs]"
   ]
  },
  {
   "cell_type": "code",
   "execution_count": 37,
   "id": "33d37588",
   "metadata": {
    "execution": {
     "iopub.execute_input": "2022-10-09T05:18:04.179245Z",
     "iopub.status.busy": "2022-10-09T05:18:04.178467Z",
     "iopub.status.idle": "2022-10-09T05:18:04.192625Z",
     "shell.execute_reply": "2022-10-09T05:18:04.191512Z"
    },
    "papermill": {
     "duration": 0.03981,
     "end_time": "2022-10-09T05:18:04.194918",
     "exception": false,
     "start_time": "2022-10-09T05:18:04.155108",
     "status": "completed"
    },
    "tags": []
   },
   "outputs": [
    {
     "data": {
      "text/html": [
       "<div>\n",
       "<style scoped>\n",
       "    .dataframe tbody tr th:only-of-type {\n",
       "        vertical-align: middle;\n",
       "    }\n",
       "\n",
       "    .dataframe tbody tr th {\n",
       "        vertical-align: top;\n",
       "    }\n",
       "\n",
       "    .dataframe thead th {\n",
       "        text-align: right;\n",
       "    }\n",
       "</style>\n",
       "<table border=\"1\" class=\"dataframe\">\n",
       "  <thead>\n",
       "    <tr style=\"text-align: right;\">\n",
       "      <th></th>\n",
       "      <th>App</th>\n",
       "      <th>Category</th>\n",
       "      <th>Rating</th>\n",
       "      <th>Reviews</th>\n",
       "      <th>Size</th>\n",
       "      <th>Installs</th>\n",
       "      <th>Type</th>\n",
       "      <th>Price</th>\n",
       "      <th>Content Rating</th>\n",
       "      <th>Genres</th>\n",
       "      <th>Last Updated</th>\n",
       "      <th>Current Ver</th>\n",
       "      <th>Android Ver</th>\n",
       "    </tr>\n",
       "  </thead>\n",
       "  <tbody>\n",
       "  </tbody>\n",
       "</table>\n",
       "</div>"
      ],
      "text/plain": [
       "Empty DataFrame\n",
       "Columns: [App, Category, Rating, Reviews, Size, Installs, Type, Price, Content Rating, Genres, Last Updated, Current Ver, Android Ver]\n",
       "Index: []"
      ]
     },
     "execution_count": 37,
     "metadata": {},
     "output_type": "execute_result"
    }
   ],
   "source": [
    "#perform the sanity checks on prices of free apps \n",
    "\n",
    "data1[(data1.Type == \"Free\") & (data1.Price >0)]\n",
    "\n",
    "#There no record means it satisfy the criteria"
   ]
  },
  {
   "cell_type": "markdown",
   "id": "7321daa9",
   "metadata": {
    "papermill": {
     "duration": 0.020669,
     "end_time": "2022-10-09T05:18:04.236952",
     "exception": false,
     "start_time": "2022-10-09T05:18:04.216283",
     "status": "completed"
    },
    "tags": []
   },
   "source": [
    "# Outliers Analysis Using Boxplot"
   ]
  },
  {
   "cell_type": "markdown",
   "id": "9cd3836f",
   "metadata": {
    "papermill": {
     "duration": 0.020911,
     "end_time": "2022-10-09T05:18:04.279196",
     "exception": false,
     "start_time": "2022-10-09T05:18:04.258285",
     "status": "completed"
    },
    "tags": []
   },
   "source": [
    "Now you need to start identifying and removing extreme values or __outliers__ from our dataset. These values can tilt our analysis and often provide us with a biased perspective of the data available. This is where you’ll start utilising visualisation to achieve your tasks. And the best visualisation to use here would be the box plot. Boxplots are one of the best ways of analysing the spread of a numeric variable\n",
    "\n",
    "\n",
    "Using a box plot you can identify the outliers as follows:\n",
    "\n",
    "- Outliers in data can arise due to genuine reasons or because of dubious entries. In the latter case, you should go ahead and remove such entries immediately. Use a boxplot to observe, analyse and remove them.\n",
    "- In the former case, you should determine whether or not removing them would add value to your analysis procedure.\n",
    "\n",
    "- You can create a box plot directly from pandas dataframe or the matplotlib way as you learnt in the previous session. Check out their official documentation here:\n",
    "   - https://pandas.pydata.org/pandas-docs/stable/reference/api/pandas.DataFrame.boxplot.html\n",
    "   - https://matplotlib.org/3.1.1/api/_as_gen/matplotlib.pyplot.boxplot.html"
   ]
  },
  {
   "cell_type": "markdown",
   "id": "aa1d3dfc",
   "metadata": {
    "papermill": {
     "duration": 0.020413,
     "end_time": "2022-10-09T05:18:04.320373",
     "exception": false,
     "start_time": "2022-10-09T05:18:04.299960",
     "status": "completed"
    },
    "tags": []
   },
   "source": [
    "**Identifying and Handling Outliers/Extreame values**"
   ]
  },
  {
   "cell_type": "code",
   "execution_count": 38,
   "id": "ea440541",
   "metadata": {
    "execution": {
     "iopub.execute_input": "2022-10-09T05:18:04.364717Z",
     "iopub.status.busy": "2022-10-09T05:18:04.363987Z",
     "iopub.status.idle": "2022-10-09T05:18:04.370676Z",
     "shell.execute_reply": "2022-10-09T05:18:04.369480Z"
    },
    "papermill": {
     "duration": 0.031996,
     "end_time": "2022-10-09T05:18:04.373035",
     "exception": false,
     "start_time": "2022-10-09T05:18:04.341039",
     "status": "completed"
    },
    "tags": []
   },
   "outputs": [],
   "source": [
    "import matplotlib.pyplot as plt\n",
    "%matplotlib inline"
   ]
  },
  {
   "cell_type": "code",
   "execution_count": 39,
   "id": "aa32ebb5",
   "metadata": {
    "execution": {
     "iopub.execute_input": "2022-10-09T05:18:04.416741Z",
     "iopub.status.busy": "2022-10-09T05:18:04.416318Z",
     "iopub.status.idle": "2022-10-09T05:18:04.572407Z",
     "shell.execute_reply": "2022-10-09T05:18:04.571237Z"
    },
    "papermill": {
     "duration": 0.181274,
     "end_time": "2022-10-09T05:18:04.575427",
     "exception": false,
     "start_time": "2022-10-09T05:18:04.394153",
     "status": "completed"
    },
    "tags": []
   },
   "outputs": [
    {
     "data": {
      "image/png": "[encoded data removed]",
      "text/plain": [
       "<Figure size 432x288 with 1 Axes>"
      ]
     },
     "metadata": {
      "needs_background": "light"
     },
     "output_type": "display_data"
    }
   ],
   "source": [
    "plt.boxplot(data1.Price)\n",
    "plt.show()"
   ]
  },
  {
   "cell_type": "code",
   "execution_count": 40,
   "id": "a88edaca",
   "metadata": {
    "execution": {
     "iopub.execute_input": "2022-10-09T05:18:04.621672Z",
     "iopub.status.busy": "2022-10-09T05:18:04.620687Z",
     "iopub.status.idle": "2022-10-09T05:18:04.645308Z",
     "shell.execute_reply": "2022-10-09T05:18:04.644202Z"
    },
    "papermill": {
     "duration": 0.050054,
     "end_time": "2022-10-09T05:18:04.647804",
     "exception": false,
     "start_time": "2022-10-09T05:18:04.597750",
     "status": "completed"
    },
    "tags": []
   },
   "outputs": [
    {
     "data": {
      "text/html": [
       "<div>\n",
       "<style scoped>\n",
       "    .dataframe tbody tr th:only-of-type {\n",
       "        vertical-align: middle;\n",
       "    }\n",
       "\n",
       "    .dataframe tbody tr th {\n",
       "        vertical-align: top;\n",
       "    }\n",
       "\n",
       "    .dataframe thead th {\n",
       "        text-align: right;\n",
       "    }\n",
       "</style>\n",
       "<table border=\"1\" class=\"dataframe\">\n",
       "  <thead>\n",
       "    <tr style=\"text-align: right;\">\n",
       "      <th></th>\n",
       "      <th>App</th>\n",
       "      <th>Category</th>\n",
       "      <th>Rating</th>\n",
       "      <th>Reviews</th>\n",
       "      <th>Size</th>\n",
       "      <th>Installs</th>\n",
       "      <th>Type</th>\n",
       "      <th>Price</th>\n",
       "      <th>Content Rating</th>\n",
       "      <th>Genres</th>\n",
       "      <th>Last Updated</th>\n",
       "      <th>Current Ver</th>\n",
       "      <th>Android Ver</th>\n",
       "    </tr>\n",
       "  </thead>\n",
       "  <tbody>\n",
       "    <tr>\n",
       "      <th>4197</th>\n",
       "      <td>most expensive app (H)</td>\n",
       "      <td>FAMILY</td>\n",
       "      <td>4.3</td>\n",
       "      <td>6</td>\n",
       "      <td>1500.0</td>\n",
       "      <td>100</td>\n",
       "      <td>Paid</td>\n",
       "      <td>399.99</td>\n",
       "      <td>Everyone</td>\n",
       "      <td>Entertainment</td>\n",
       "      <td>July 16, 2018</td>\n",
       "      <td>1.0</td>\n",
       "      <td>7.0 and up</td>\n",
       "    </tr>\n",
       "    <tr>\n",
       "      <th>4362</th>\n",
       "      <td>💎 I'm rich</td>\n",
       "      <td>LIFESTYLE</td>\n",
       "      <td>3.8</td>\n",
       "      <td>718</td>\n",
       "      <td>26000.0</td>\n",
       "      <td>10000</td>\n",
       "      <td>Paid</td>\n",
       "      <td>399.99</td>\n",
       "      <td>Everyone</td>\n",
       "      <td>Lifestyle</td>\n",
       "      <td>March 11, 2018</td>\n",
       "      <td>1.0.0</td>\n",
       "      <td>4.4 and up</td>\n",
       "    </tr>\n",
       "    <tr>\n",
       "      <th>4367</th>\n",
       "      <td>I'm Rich - Trump Edition</td>\n",
       "      <td>LIFESTYLE</td>\n",
       "      <td>3.6</td>\n",
       "      <td>275</td>\n",
       "      <td>7300.0</td>\n",
       "      <td>10000</td>\n",
       "      <td>Paid</td>\n",
       "      <td>400.00</td>\n",
       "      <td>Everyone</td>\n",
       "      <td>Lifestyle</td>\n",
       "      <td>May 3, 2018</td>\n",
       "      <td>1.0.1</td>\n",
       "      <td>4.1 and up</td>\n",
       "    </tr>\n",
       "    <tr>\n",
       "      <th>5351</th>\n",
       "      <td>I am rich</td>\n",
       "      <td>LIFESTYLE</td>\n",
       "      <td>3.8</td>\n",
       "      <td>3547</td>\n",
       "      <td>1800.0</td>\n",
       "      <td>100000</td>\n",
       "      <td>Paid</td>\n",
       "      <td>399.99</td>\n",
       "      <td>Everyone</td>\n",
       "      <td>Lifestyle</td>\n",
       "      <td>January 12, 2018</td>\n",
       "      <td>2.0</td>\n",
       "      <td>4.0.3 and up</td>\n",
       "    </tr>\n",
       "    <tr>\n",
       "      <th>5354</th>\n",
       "      <td>I am Rich Plus</td>\n",
       "      <td>FAMILY</td>\n",
       "      <td>4.0</td>\n",
       "      <td>856</td>\n",
       "      <td>8700.0</td>\n",
       "      <td>10000</td>\n",
       "      <td>Paid</td>\n",
       "      <td>399.99</td>\n",
       "      <td>Everyone</td>\n",
       "      <td>Entertainment</td>\n",
       "      <td>May 19, 2018</td>\n",
       "      <td>3.0</td>\n",
       "      <td>4.4 and up</td>\n",
       "    </tr>\n",
       "    <tr>\n",
       "      <th>5355</th>\n",
       "      <td>I am rich VIP</td>\n",
       "      <td>LIFESTYLE</td>\n",
       "      <td>3.8</td>\n",
       "      <td>411</td>\n",
       "      <td>2600.0</td>\n",
       "      <td>10000</td>\n",
       "      <td>Paid</td>\n",
       "      <td>299.99</td>\n",
       "      <td>Everyone</td>\n",
       "      <td>Lifestyle</td>\n",
       "      <td>July 21, 2018</td>\n",
       "      <td>1.1.1</td>\n",
       "      <td>4.3 and up</td>\n",
       "    </tr>\n",
       "    <tr>\n",
       "      <th>5356</th>\n",
       "      <td>I Am Rich Premium</td>\n",
       "      <td>FINANCE</td>\n",
       "      <td>4.1</td>\n",
       "      <td>1867</td>\n",
       "      <td>4700.0</td>\n",
       "      <td>50000</td>\n",
       "      <td>Paid</td>\n",
       "      <td>399.99</td>\n",
       "      <td>Everyone</td>\n",
       "      <td>Finance</td>\n",
       "      <td>November 12, 2017</td>\n",
       "      <td>1.6</td>\n",
       "      <td>4.0 and up</td>\n",
       "    </tr>\n",
       "    <tr>\n",
       "      <th>5357</th>\n",
       "      <td>I am extremely Rich</td>\n",
       "      <td>LIFESTYLE</td>\n",
       "      <td>2.9</td>\n",
       "      <td>41</td>\n",
       "      <td>2900.0</td>\n",
       "      <td>1000</td>\n",
       "      <td>Paid</td>\n",
       "      <td>379.99</td>\n",
       "      <td>Everyone</td>\n",
       "      <td>Lifestyle</td>\n",
       "      <td>July 1, 2018</td>\n",
       "      <td>1.0</td>\n",
       "      <td>4.0 and up</td>\n",
       "    </tr>\n",
       "    <tr>\n",
       "      <th>5358</th>\n",
       "      <td>I am Rich!</td>\n",
       "      <td>FINANCE</td>\n",
       "      <td>3.8</td>\n",
       "      <td>93</td>\n",
       "      <td>22000.0</td>\n",
       "      <td>1000</td>\n",
       "      <td>Paid</td>\n",
       "      <td>399.99</td>\n",
       "      <td>Everyone</td>\n",
       "      <td>Finance</td>\n",
       "      <td>December 11, 2017</td>\n",
       "      <td>1.0</td>\n",
       "      <td>4.1 and up</td>\n",
       "    </tr>\n",
       "    <tr>\n",
       "      <th>5359</th>\n",
       "      <td>I am rich(premium)</td>\n",
       "      <td>FINANCE</td>\n",
       "      <td>3.5</td>\n",
       "      <td>472</td>\n",
       "      <td>965.0</td>\n",
       "      <td>5000</td>\n",
       "      <td>Paid</td>\n",
       "      <td>399.99</td>\n",
       "      <td>Everyone</td>\n",
       "      <td>Finance</td>\n",
       "      <td>May 1, 2017</td>\n",
       "      <td>3.4</td>\n",
       "      <td>4.4 and up</td>\n",
       "    </tr>\n",
       "    <tr>\n",
       "      <th>5362</th>\n",
       "      <td>I Am Rich Pro</td>\n",
       "      <td>FAMILY</td>\n",
       "      <td>4.4</td>\n",
       "      <td>201</td>\n",
       "      <td>2700.0</td>\n",
       "      <td>5000</td>\n",
       "      <td>Paid</td>\n",
       "      <td>399.99</td>\n",
       "      <td>Everyone</td>\n",
       "      <td>Entertainment</td>\n",
       "      <td>May 30, 2017</td>\n",
       "      <td>1.54</td>\n",
       "      <td>1.6 and up</td>\n",
       "    </tr>\n",
       "    <tr>\n",
       "      <th>5364</th>\n",
       "      <td>I am rich (Most expensive app)</td>\n",
       "      <td>FINANCE</td>\n",
       "      <td>4.1</td>\n",
       "      <td>129</td>\n",
       "      <td>2700.0</td>\n",
       "      <td>1000</td>\n",
       "      <td>Paid</td>\n",
       "      <td>399.99</td>\n",
       "      <td>Teen</td>\n",
       "      <td>Finance</td>\n",
       "      <td>December 6, 2017</td>\n",
       "      <td>2</td>\n",
       "      <td>4.0.3 and up</td>\n",
       "    </tr>\n",
       "    <tr>\n",
       "      <th>5366</th>\n",
       "      <td>I Am Rich</td>\n",
       "      <td>FAMILY</td>\n",
       "      <td>3.6</td>\n",
       "      <td>217</td>\n",
       "      <td>4900.0</td>\n",
       "      <td>10000</td>\n",
       "      <td>Paid</td>\n",
       "      <td>389.99</td>\n",
       "      <td>Everyone</td>\n",
       "      <td>Entertainment</td>\n",
       "      <td>June 22, 2018</td>\n",
       "      <td>1.5</td>\n",
       "      <td>4.2 and up</td>\n",
       "    </tr>\n",
       "    <tr>\n",
       "      <th>5369</th>\n",
       "      <td>I am Rich</td>\n",
       "      <td>FINANCE</td>\n",
       "      <td>4.3</td>\n",
       "      <td>180</td>\n",
       "      <td>3800.0</td>\n",
       "      <td>5000</td>\n",
       "      <td>Paid</td>\n",
       "      <td>399.99</td>\n",
       "      <td>Everyone</td>\n",
       "      <td>Finance</td>\n",
       "      <td>March 22, 2018</td>\n",
       "      <td>1.0</td>\n",
       "      <td>4.2 and up</td>\n",
       "    </tr>\n",
       "    <tr>\n",
       "      <th>5373</th>\n",
       "      <td>I AM RICH PRO PLUS</td>\n",
       "      <td>FINANCE</td>\n",
       "      <td>4.0</td>\n",
       "      <td>36</td>\n",
       "      <td>41000.0</td>\n",
       "      <td>1000</td>\n",
       "      <td>Paid</td>\n",
       "      <td>399.99</td>\n",
       "      <td>Everyone</td>\n",
       "      <td>Finance</td>\n",
       "      <td>June 25, 2018</td>\n",
       "      <td>1.0.2</td>\n",
       "      <td>4.1 and up</td>\n",
       "    </tr>\n",
       "  </tbody>\n",
       "</table>\n",
       "</div>"
      ],
      "text/plain": [
       "                                 App   Category  Rating  Reviews     Size  \\\n",
       "4197          most expensive app (H)     FAMILY     4.3        6   1500.0   \n",
       "4362                      💎 I'm rich  LIFESTYLE     3.8      718  26000.0   \n",
       "4367        I'm Rich - Trump Edition  LIFESTYLE     3.6      275   7300.0   \n",
       "5351                       I am rich  LIFESTYLE     3.8     3547   1800.0   \n",
       "5354                  I am Rich Plus     FAMILY     4.0      856   8700.0   \n",
       "5355                   I am rich VIP  LIFESTYLE     3.8      411   2600.0   \n",
       "5356               I Am Rich Premium    FINANCE     4.1     1867   4700.0   \n",
       "5357             I am extremely Rich  LIFESTYLE     2.9       41   2900.0   \n",
       "5358                      I am Rich!    FINANCE     3.8       93  22000.0   \n",
       "5359              I am rich(premium)    FINANCE     3.5      472    965.0   \n",
       "5362                   I Am Rich Pro     FAMILY     4.4      201   2700.0   \n",
       "5364  I am rich (Most expensive app)    FINANCE     4.1      129   2700.0   \n",
       "5366                       I Am Rich     FAMILY     3.6      217   4900.0   \n",
       "5369                       I am Rich    FINANCE     4.3      180   3800.0   \n",
       "5373              I AM RICH PRO PLUS    FINANCE     4.0       36  41000.0   \n",
       "\n",
       "      Installs  Type   Price Content Rating         Genres       Last Updated  \\\n",
       "4197       100  Paid  399.99       Everyone  Entertainment      July 16, 2018   \n",
       "4362     10000  Paid  399.99       Everyone      Lifestyle     March 11, 2018   \n",
       "4367     10000  Paid  400.00       Everyone      Lifestyle        May 3, 2018   \n",
       "5351    100000  Paid  399.99       Everyone      Lifestyle   January 12, 2018   \n",
       "5354     10000  Paid  399.99       Everyone  Entertainment       May 19, 2018   \n",
       "5355     10000  Paid  299.99       Everyone      Lifestyle      July 21, 2018   \n",
       "5356     50000  Paid  399.99       Everyone        Finance  November 12, 2017   \n",
       "5357      1000  Paid  379.99       Everyone      Lifestyle       July 1, 2018   \n",
       "5358      1000  Paid  399.99       Everyone        Finance  December 11, 2017   \n",
       "5359      5000  Paid  399.99       Everyone        Finance        May 1, 2017   \n",
       "5362      5000  Paid  399.99       Everyone  Entertainment       May 30, 2017   \n",
       "5364      1000  Paid  399.99           Teen        Finance   December 6, 2017   \n",
       "5366     10000  Paid  389.99       Everyone  Entertainment      June 22, 2018   \n",
       "5369      5000  Paid  399.99       Everyone        Finance     March 22, 2018   \n",
       "5373      1000  Paid  399.99       Everyone        Finance      June 25, 2018   \n",
       "\n",
       "     Current Ver   Android Ver  \n",
       "4197         1.0    7.0 and up  \n",
       "4362       1.0.0    4.4 and up  \n",
       "4367       1.0.1    4.1 and up  \n",
       "5351         2.0  4.0.3 and up  \n",
       "5354         3.0    4.4 and up  \n",
       "5355       1.1.1    4.3 and up  \n",
       "5356         1.6    4.0 and up  \n",
       "5357         1.0    4.0 and up  \n",
       "5358         1.0    4.1 and up  \n",
       "5359         3.4    4.4 and up  \n",
       "5362        1.54    1.6 and up  \n",
       "5364           2  4.0.3 and up  \n",
       "5366         1.5    4.2 and up  \n",
       "5369         1.0    4.2 and up  \n",
       "5373       1.0.2    4.1 and up  "
      ]
     },
     "execution_count": 40,
     "metadata": {},
     "output_type": "execute_result"
    }
   ],
   "source": [
    "data2 = data1[data1.Price>200]\n",
    "data2"
   ]
  },
  {
   "cell_type": "code",
   "execution_count": 41,
   "id": "81fe0a6c",
   "metadata": {
    "execution": {
     "iopub.execute_input": "2022-10-09T05:18:04.693657Z",
     "iopub.status.busy": "2022-10-09T05:18:04.693222Z",
     "iopub.status.idle": "2022-10-09T05:18:04.721173Z",
     "shell.execute_reply": "2022-10-09T05:18:04.720026Z"
    },
    "papermill": {
     "duration": 0.053119,
     "end_time": "2022-10-09T05:18:04.723473",
     "exception": false,
     "start_time": "2022-10-09T05:18:04.670354",
     "status": "completed"
    },
    "tags": []
   },
   "outputs": [
    {
     "data": {
      "text/html": [
       "<div>\n",
       "<style scoped>\n",
       "    .dataframe tbody tr th:only-of-type {\n",
       "        vertical-align: middle;\n",
       "    }\n",
       "\n",
       "    .dataframe tbody tr th {\n",
       "        vertical-align: top;\n",
       "    }\n",
       "\n",
       "    .dataframe thead th {\n",
       "        text-align: right;\n",
       "    }\n",
       "</style>\n",
       "<table border=\"1\" class=\"dataframe\">\n",
       "  <thead>\n",
       "    <tr style=\"text-align: right;\">\n",
       "      <th></th>\n",
       "      <th>App</th>\n",
       "      <th>Category</th>\n",
       "      <th>Rating</th>\n",
       "      <th>Reviews</th>\n",
       "      <th>Size</th>\n",
       "      <th>Installs</th>\n",
       "      <th>Type</th>\n",
       "      <th>Price</th>\n",
       "      <th>Content Rating</th>\n",
       "      <th>Genres</th>\n",
       "      <th>Last Updated</th>\n",
       "      <th>Current Ver</th>\n",
       "      <th>Android Ver</th>\n",
       "    </tr>\n",
       "  </thead>\n",
       "  <tbody>\n",
       "    <tr>\n",
       "      <th>0</th>\n",
       "      <td>Photo Editor &amp; Candy Camera &amp; Grid &amp; ScrapBook</td>\n",
       "      <td>ART_AND_DESIGN</td>\n",
       "      <td>4.1</td>\n",
       "      <td>159</td>\n",
       "      <td>19000.000000</td>\n",
       "      <td>10000</td>\n",
       "      <td>Free</td>\n",
       "      <td>0.0</td>\n",
       "      <td>Everyone</td>\n",
       "      <td>Art &amp; Design</td>\n",
       "      <td>January 7, 2018</td>\n",
       "      <td>1.0.0</td>\n",
       "      <td>4.0.3 and up</td>\n",
       "    </tr>\n",
       "    <tr>\n",
       "      <th>1</th>\n",
       "      <td>Coloring book moana</td>\n",
       "      <td>ART_AND_DESIGN</td>\n",
       "      <td>3.9</td>\n",
       "      <td>967</td>\n",
       "      <td>14000.000000</td>\n",
       "      <td>500000</td>\n",
       "      <td>Free</td>\n",
       "      <td>0.0</td>\n",
       "      <td>Everyone</td>\n",
       "      <td>Art &amp; Design;Pretend Play</td>\n",
       "      <td>January 15, 2018</td>\n",
       "      <td>2.0.0</td>\n",
       "      <td>4.0.3 and up</td>\n",
       "    </tr>\n",
       "    <tr>\n",
       "      <th>2</th>\n",
       "      <td>U Launcher Lite – FREE Live Cool Themes, Hide ...</td>\n",
       "      <td>ART_AND_DESIGN</td>\n",
       "      <td>4.7</td>\n",
       "      <td>87510</td>\n",
       "      <td>8700.000000</td>\n",
       "      <td>5000000</td>\n",
       "      <td>Free</td>\n",
       "      <td>0.0</td>\n",
       "      <td>Everyone</td>\n",
       "      <td>Art &amp; Design</td>\n",
       "      <td>August 1, 2018</td>\n",
       "      <td>1.2.4</td>\n",
       "      <td>4.0.3 and up</td>\n",
       "    </tr>\n",
       "    <tr>\n",
       "      <th>3</th>\n",
       "      <td>Sketch - Draw &amp; Paint</td>\n",
       "      <td>ART_AND_DESIGN</td>\n",
       "      <td>4.5</td>\n",
       "      <td>215644</td>\n",
       "      <td>25000.000000</td>\n",
       "      <td>50000000</td>\n",
       "      <td>Free</td>\n",
       "      <td>0.0</td>\n",
       "      <td>Teen</td>\n",
       "      <td>Art &amp; Design</td>\n",
       "      <td>June 8, 2018</td>\n",
       "      <td>Varies with device</td>\n",
       "      <td>4.2 and up</td>\n",
       "    </tr>\n",
       "    <tr>\n",
       "      <th>4</th>\n",
       "      <td>Pixel Draw - Number Art Coloring Book</td>\n",
       "      <td>ART_AND_DESIGN</td>\n",
       "      <td>4.3</td>\n",
       "      <td>967</td>\n",
       "      <td>2800.000000</td>\n",
       "      <td>100000</td>\n",
       "      <td>Free</td>\n",
       "      <td>0.0</td>\n",
       "      <td>Everyone</td>\n",
       "      <td>Art &amp; Design;Creativity</td>\n",
       "      <td>June 20, 2018</td>\n",
       "      <td>1.1</td>\n",
       "      <td>4.4 and up</td>\n",
       "    </tr>\n",
       "    <tr>\n",
       "      <th>...</th>\n",
       "      <td>...</td>\n",
       "      <td>...</td>\n",
       "      <td>...</td>\n",
       "      <td>...</td>\n",
       "      <td>...</td>\n",
       "      <td>...</td>\n",
       "      <td>...</td>\n",
       "      <td>...</td>\n",
       "      <td>...</td>\n",
       "      <td>...</td>\n",
       "      <td>...</td>\n",
       "      <td>...</td>\n",
       "      <td>...</td>\n",
       "    </tr>\n",
       "    <tr>\n",
       "      <th>10834</th>\n",
       "      <td>FR Calculator</td>\n",
       "      <td>FAMILY</td>\n",
       "      <td>4.0</td>\n",
       "      <td>7</td>\n",
       "      <td>2600.000000</td>\n",
       "      <td>500</td>\n",
       "      <td>Free</td>\n",
       "      <td>0.0</td>\n",
       "      <td>Everyone</td>\n",
       "      <td>Education</td>\n",
       "      <td>June 18, 2017</td>\n",
       "      <td>1.0.0</td>\n",
       "      <td>4.1 and up</td>\n",
       "    </tr>\n",
       "    <tr>\n",
       "      <th>10836</th>\n",
       "      <td>Sya9a Maroc - FR</td>\n",
       "      <td>FAMILY</td>\n",
       "      <td>4.5</td>\n",
       "      <td>38</td>\n",
       "      <td>53000.000000</td>\n",
       "      <td>5000</td>\n",
       "      <td>Free</td>\n",
       "      <td>0.0</td>\n",
       "      <td>Everyone</td>\n",
       "      <td>Education</td>\n",
       "      <td>July 25, 2017</td>\n",
       "      <td>1.48</td>\n",
       "      <td>4.1 and up</td>\n",
       "    </tr>\n",
       "    <tr>\n",
       "      <th>10837</th>\n",
       "      <td>Fr. Mike Schmitz Audio Teachings</td>\n",
       "      <td>FAMILY</td>\n",
       "      <td>5.0</td>\n",
       "      <td>4</td>\n",
       "      <td>3600.000000</td>\n",
       "      <td>100</td>\n",
       "      <td>Free</td>\n",
       "      <td>0.0</td>\n",
       "      <td>Everyone</td>\n",
       "      <td>Education</td>\n",
       "      <td>July 6, 2018</td>\n",
       "      <td>1.0</td>\n",
       "      <td>4.1 and up</td>\n",
       "    </tr>\n",
       "    <tr>\n",
       "      <th>10839</th>\n",
       "      <td>The SCP Foundation DB fr nn5n</td>\n",
       "      <td>BOOKS_AND_REFERENCE</td>\n",
       "      <td>4.5</td>\n",
       "      <td>114</td>\n",
       "      <td>21516.529524</td>\n",
       "      <td>1000</td>\n",
       "      <td>Free</td>\n",
       "      <td>0.0</td>\n",
       "      <td>Mature 17+</td>\n",
       "      <td>Books &amp; Reference</td>\n",
       "      <td>January 19, 2015</td>\n",
       "      <td>Varies with device</td>\n",
       "      <td>Varies with device</td>\n",
       "    </tr>\n",
       "    <tr>\n",
       "      <th>10840</th>\n",
       "      <td>iHoroscope - 2018 Daily Horoscope &amp; Astrology</td>\n",
       "      <td>LIFESTYLE</td>\n",
       "      <td>4.5</td>\n",
       "      <td>398307</td>\n",
       "      <td>19000.000000</td>\n",
       "      <td>10000000</td>\n",
       "      <td>Free</td>\n",
       "      <td>0.0</td>\n",
       "      <td>Everyone</td>\n",
       "      <td>Lifestyle</td>\n",
       "      <td>July 25, 2018</td>\n",
       "      <td>Varies with device</td>\n",
       "      <td>Varies with device</td>\n",
       "    </tr>\n",
       "  </tbody>\n",
       "</table>\n",
       "<p>9344 rows × 13 columns</p>\n",
       "</div>"
      ],
      "text/plain": [
       "                                                     App             Category  \\\n",
       "0         Photo Editor & Candy Camera & Grid & ScrapBook       ART_AND_DESIGN   \n",
       "1                                    Coloring book moana       ART_AND_DESIGN   \n",
       "2      U Launcher Lite – FREE Live Cool Themes, Hide ...       ART_AND_DESIGN   \n",
       "3                                  Sketch - Draw & Paint       ART_AND_DESIGN   \n",
       "4                  Pixel Draw - Number Art Coloring Book       ART_AND_DESIGN   \n",
       "...                                                  ...                  ...   \n",
       "10834                                      FR Calculator               FAMILY   \n",
       "10836                                   Sya9a Maroc - FR               FAMILY   \n",
       "10837                   Fr. Mike Schmitz Audio Teachings               FAMILY   \n",
       "10839                      The SCP Foundation DB fr nn5n  BOOKS_AND_REFERENCE   \n",
       "10840      iHoroscope - 2018 Daily Horoscope & Astrology            LIFESTYLE   \n",
       "\n",
       "       Rating  Reviews          Size  Installs  Type  Price Content Rating  \\\n",
       "0         4.1      159  19000.000000     10000  Free    0.0       Everyone   \n",
       "1         3.9      967  14000.000000    500000  Free    0.0       Everyone   \n",
       "2         4.7    87510   8700.000000   5000000  Free    0.0       Everyone   \n",
       "3         4.5   215644  25000.000000  50000000  Free    0.0           Teen   \n",
       "4         4.3      967   2800.000000    100000  Free    0.0       Everyone   \n",
       "...       ...      ...           ...       ...   ...    ...            ...   \n",
       "10834     4.0        7   2600.000000       500  Free    0.0       Everyone   \n",
       "10836     4.5       38  53000.000000      5000  Free    0.0       Everyone   \n",
       "10837     5.0        4   3600.000000       100  Free    0.0       Everyone   \n",
       "10839     4.5      114  21516.529524      1000  Free    0.0     Mature 17+   \n",
       "10840     4.5   398307  19000.000000  10000000  Free    0.0       Everyone   \n",
       "\n",
       "                          Genres      Last Updated         Current Ver  \\\n",
       "0                   Art & Design   January 7, 2018               1.0.0   \n",
       "1      Art & Design;Pretend Play  January 15, 2018               2.0.0   \n",
       "2                   Art & Design    August 1, 2018               1.2.4   \n",
       "3                   Art & Design      June 8, 2018  Varies with device   \n",
       "4        Art & Design;Creativity     June 20, 2018                 1.1   \n",
       "...                          ...               ...                 ...   \n",
       "10834                  Education     June 18, 2017               1.0.0   \n",
       "10836                  Education     July 25, 2017                1.48   \n",
       "10837                  Education      July 6, 2018                 1.0   \n",
       "10839          Books & Reference  January 19, 2015  Varies with device   \n",
       "10840                  Lifestyle     July 25, 2018  Varies with device   \n",
       "\n",
       "              Android Ver  \n",
       "0            4.0.3 and up  \n",
       "1            4.0.3 and up  \n",
       "2            4.0.3 and up  \n",
       "3              4.2 and up  \n",
       "4              4.4 and up  \n",
       "...                   ...  \n",
       "10834          4.1 and up  \n",
       "10836          4.1 and up  \n",
       "10837          4.1 and up  \n",
       "10839  Varies with device  \n",
       "10840  Varies with device  \n",
       "\n",
       "[9344 rows x 13 columns]"
      ]
     },
     "execution_count": 41,
     "metadata": {},
     "output_type": "execute_result"
    }
   ],
   "source": [
    "data2 = data1[data1.Price<200]\n",
    "data2"
   ]
  },
  {
   "cell_type": "code",
   "execution_count": 42,
   "id": "d35fc798",
   "metadata": {
    "execution": {
     "iopub.execute_input": "2022-10-09T05:18:04.771828Z",
     "iopub.status.busy": "2022-10-09T05:18:04.771381Z",
     "iopub.status.idle": "2022-10-09T05:18:04.784236Z",
     "shell.execute_reply": "2022-10-09T05:18:04.782836Z"
    },
    "papermill": {
     "duration": 0.04102,
     "end_time": "2022-10-09T05:18:04.786925",
     "exception": false,
     "start_time": "2022-10-09T05:18:04.745905",
     "status": "completed"
    },
    "tags": []
   },
   "outputs": [
    {
     "data": {
      "text/plain": [
       "count    9344.000000\n",
       "mean        0.334463\n",
       "std         2.169925\n",
       "min         0.000000\n",
       "25%         0.000000\n",
       "50%         0.000000\n",
       "75%         0.000000\n",
       "max        79.990000\n",
       "Name: Price, dtype: float64"
      ]
     },
     "execution_count": 42,
     "metadata": {},
     "output_type": "execute_result"
    }
   ],
   "source": [
    "data2.Price.describe()"
   ]
  },
  {
   "cell_type": "code",
   "execution_count": 43,
   "id": "568147f5",
   "metadata": {
    "execution": {
     "iopub.execute_input": "2022-10-09T05:18:04.833775Z",
     "iopub.status.busy": "2022-10-09T05:18:04.833387Z",
     "iopub.status.idle": "2022-10-09T05:18:04.994242Z",
     "shell.execute_reply": "2022-10-09T05:18:04.992081Z"
    },
    "papermill": {
     "duration": 0.189119,
     "end_time": "2022-10-09T05:18:04.998424",
     "exception": false,
     "start_time": "2022-10-09T05:18:04.809305",
     "status": "completed"
    },
    "tags": []
   },
   "outputs": [
    {
     "data": {
      "text/plain": [
       "<AxesSubplot:>"
      ]
     },
     "execution_count": 43,
     "metadata": {},
     "output_type": "execute_result"
    },
    {
     "data": {
      "image/png": "[encoded data removed]",
      "text/plain": [
       "<Figure size 432x288 with 1 Axes>"
      ]
     },
     "metadata": {
      "needs_background": "light"
     },
     "output_type": "display_data"
    }
   ],
   "source": [
    "data2[data2.Price>0].Price.plot.box()"
   ]
  },
  {
   "cell_type": "code",
   "execution_count": 44,
   "id": "e797857a",
   "metadata": {
    "execution": {
     "iopub.execute_input": "2022-10-09T05:18:05.060829Z",
     "iopub.status.busy": "2022-10-09T05:18:05.060309Z",
     "iopub.status.idle": "2022-10-09T05:18:05.083874Z",
     "shell.execute_reply": "2022-10-09T05:18:05.082444Z"
    },
    "papermill": {
     "duration": 0.053761,
     "end_time": "2022-10-09T05:18:05.086217",
     "exception": false,
     "start_time": "2022-10-09T05:18:05.032456",
     "status": "completed"
    },
    "tags": []
   },
   "outputs": [
    {
     "data": {
      "text/html": [
       "<div>\n",
       "<style scoped>\n",
       "    .dataframe tbody tr th:only-of-type {\n",
       "        vertical-align: middle;\n",
       "    }\n",
       "\n",
       "    .dataframe tbody tr th {\n",
       "        vertical-align: top;\n",
       "    }\n",
       "\n",
       "    .dataframe thead th {\n",
       "        text-align: right;\n",
       "    }\n",
       "</style>\n",
       "<table border=\"1\" class=\"dataframe\">\n",
       "  <thead>\n",
       "    <tr style=\"text-align: right;\">\n",
       "      <th></th>\n",
       "      <th>App</th>\n",
       "      <th>Category</th>\n",
       "      <th>Rating</th>\n",
       "      <th>Reviews</th>\n",
       "      <th>Size</th>\n",
       "      <th>Installs</th>\n",
       "      <th>Type</th>\n",
       "      <th>Price</th>\n",
       "      <th>Content Rating</th>\n",
       "      <th>Genres</th>\n",
       "      <th>Last Updated</th>\n",
       "      <th>Current Ver</th>\n",
       "      <th>Android Ver</th>\n",
       "    </tr>\n",
       "  </thead>\n",
       "  <tbody>\n",
       "    <tr>\n",
       "      <th>2253</th>\n",
       "      <td>Vargo Anesthesia Mega App</td>\n",
       "      <td>MEDICAL</td>\n",
       "      <td>4.6</td>\n",
       "      <td>92</td>\n",
       "      <td>32000.0</td>\n",
       "      <td>1000</td>\n",
       "      <td>Paid</td>\n",
       "      <td>79.99</td>\n",
       "      <td>Everyone</td>\n",
       "      <td>Medical</td>\n",
       "      <td>June 18, 2018</td>\n",
       "      <td>19.0</td>\n",
       "      <td>4.0.3 and up</td>\n",
       "    </tr>\n",
       "    <tr>\n",
       "      <th>2301</th>\n",
       "      <td>A Manual of Acupuncture</td>\n",
       "      <td>MEDICAL</td>\n",
       "      <td>3.5</td>\n",
       "      <td>214</td>\n",
       "      <td>68000.0</td>\n",
       "      <td>1000</td>\n",
       "      <td>Paid</td>\n",
       "      <td>33.99</td>\n",
       "      <td>Everyone</td>\n",
       "      <td>Medical</td>\n",
       "      <td>October 2, 2017</td>\n",
       "      <td>2.1.35</td>\n",
       "      <td>4.0 and up</td>\n",
       "    </tr>\n",
       "    <tr>\n",
       "      <th>2365</th>\n",
       "      <td>Vargo Anesthesia Mega App</td>\n",
       "      <td>MEDICAL</td>\n",
       "      <td>4.6</td>\n",
       "      <td>92</td>\n",
       "      <td>32000.0</td>\n",
       "      <td>1000</td>\n",
       "      <td>Paid</td>\n",
       "      <td>79.99</td>\n",
       "      <td>Everyone</td>\n",
       "      <td>Medical</td>\n",
       "      <td>June 18, 2018</td>\n",
       "      <td>19.0</td>\n",
       "      <td>4.0.3 and up</td>\n",
       "    </tr>\n",
       "    <tr>\n",
       "      <th>2402</th>\n",
       "      <td>A Manual of Acupuncture</td>\n",
       "      <td>MEDICAL</td>\n",
       "      <td>3.5</td>\n",
       "      <td>214</td>\n",
       "      <td>68000.0</td>\n",
       "      <td>1000</td>\n",
       "      <td>Paid</td>\n",
       "      <td>33.99</td>\n",
       "      <td>Everyone</td>\n",
       "      <td>Medical</td>\n",
       "      <td>October 2, 2017</td>\n",
       "      <td>2.1.35</td>\n",
       "      <td>4.0 and up</td>\n",
       "    </tr>\n",
       "    <tr>\n",
       "      <th>2414</th>\n",
       "      <td>LTC AS Legal</td>\n",
       "      <td>MEDICAL</td>\n",
       "      <td>4.0</td>\n",
       "      <td>6</td>\n",
       "      <td>1300.0</td>\n",
       "      <td>100</td>\n",
       "      <td>Paid</td>\n",
       "      <td>39.99</td>\n",
       "      <td>Everyone</td>\n",
       "      <td>Medical</td>\n",
       "      <td>April 4, 2018</td>\n",
       "      <td>3.0.1</td>\n",
       "      <td>4.1 and up</td>\n",
       "    </tr>\n",
       "    <tr>\n",
       "      <th>5360</th>\n",
       "      <td>I am Rich Person</td>\n",
       "      <td>LIFESTYLE</td>\n",
       "      <td>4.2</td>\n",
       "      <td>134</td>\n",
       "      <td>1800.0</td>\n",
       "      <td>1000</td>\n",
       "      <td>Paid</td>\n",
       "      <td>37.99</td>\n",
       "      <td>Everyone</td>\n",
       "      <td>Lifestyle</td>\n",
       "      <td>July 18, 2017</td>\n",
       "      <td>1.0</td>\n",
       "      <td>4.0.3 and up</td>\n",
       "    </tr>\n",
       "  </tbody>\n",
       "</table>\n",
       "</div>"
      ],
      "text/plain": [
       "                            App   Category  Rating  Reviews     Size  \\\n",
       "2253  Vargo Anesthesia Mega App    MEDICAL     4.6       92  32000.0   \n",
       "2301    A Manual of Acupuncture    MEDICAL     3.5      214  68000.0   \n",
       "2365  Vargo Anesthesia Mega App    MEDICAL     4.6       92  32000.0   \n",
       "2402    A Manual of Acupuncture    MEDICAL     3.5      214  68000.0   \n",
       "2414               LTC AS Legal    MEDICAL     4.0        6   1300.0   \n",
       "5360           I am Rich Person  LIFESTYLE     4.2      134   1800.0   \n",
       "\n",
       "      Installs  Type  Price Content Rating     Genres     Last Updated  \\\n",
       "2253      1000  Paid  79.99       Everyone    Medical    June 18, 2018   \n",
       "2301      1000  Paid  33.99       Everyone    Medical  October 2, 2017   \n",
       "2365      1000  Paid  79.99       Everyone    Medical    June 18, 2018   \n",
       "2402      1000  Paid  33.99       Everyone    Medical  October 2, 2017   \n",
       "2414       100  Paid  39.99       Everyone    Medical    April 4, 2018   \n",
       "5360      1000  Paid  37.99       Everyone  Lifestyle    July 18, 2017   \n",
       "\n",
       "     Current Ver   Android Ver  \n",
       "2253        19.0  4.0.3 and up  \n",
       "2301      2.1.35    4.0 and up  \n",
       "2365        19.0  4.0.3 and up  \n",
       "2402      2.1.35    4.0 and up  \n",
       "2414       3.0.1    4.1 and up  \n",
       "5360         1.0  4.0.3 and up  "
      ]
     },
     "execution_count": 44,
     "metadata": {},
     "output_type": "execute_result"
    }
   ],
   "source": [
    "data2[data2.Price>30]"
   ]
  },
  {
   "cell_type": "code",
   "execution_count": 45,
   "id": "6d5c4a6a",
   "metadata": {
    "execution": {
     "iopub.execute_input": "2022-10-09T05:18:05.135261Z",
     "iopub.status.busy": "2022-10-09T05:18:05.133924Z",
     "iopub.status.idle": "2022-10-09T05:18:05.162687Z",
     "shell.execute_reply": "2022-10-09T05:18:05.161503Z"
    },
    "papermill": {
     "duration": 0.05568,
     "end_time": "2022-10-09T05:18:05.165234",
     "exception": false,
     "start_time": "2022-10-09T05:18:05.109554",
     "status": "completed"
    },
    "tags": []
   },
   "outputs": [
    {
     "data": {
      "text/html": [
       "<div>\n",
       "<style scoped>\n",
       "    .dataframe tbody tr th:only-of-type {\n",
       "        vertical-align: middle;\n",
       "    }\n",
       "\n",
       "    .dataframe tbody tr th {\n",
       "        vertical-align: top;\n",
       "    }\n",
       "\n",
       "    .dataframe thead th {\n",
       "        text-align: right;\n",
       "    }\n",
       "</style>\n",
       "<table border=\"1\" class=\"dataframe\">\n",
       "  <thead>\n",
       "    <tr style=\"text-align: right;\">\n",
       "      <th></th>\n",
       "      <th>App</th>\n",
       "      <th>Category</th>\n",
       "      <th>Rating</th>\n",
       "      <th>Reviews</th>\n",
       "      <th>Size</th>\n",
       "      <th>Installs</th>\n",
       "      <th>Type</th>\n",
       "      <th>Price</th>\n",
       "      <th>Content Rating</th>\n",
       "      <th>Genres</th>\n",
       "      <th>Last Updated</th>\n",
       "      <th>Current Ver</th>\n",
       "      <th>Android Ver</th>\n",
       "    </tr>\n",
       "  </thead>\n",
       "  <tbody>\n",
       "    <tr>\n",
       "      <th>0</th>\n",
       "      <td>Photo Editor &amp; Candy Camera &amp; Grid &amp; ScrapBook</td>\n",
       "      <td>ART_AND_DESIGN</td>\n",
       "      <td>4.1</td>\n",
       "      <td>159</td>\n",
       "      <td>19000.000000</td>\n",
       "      <td>10000</td>\n",
       "      <td>Free</td>\n",
       "      <td>0.0</td>\n",
       "      <td>Everyone</td>\n",
       "      <td>Art &amp; Design</td>\n",
       "      <td>January 7, 2018</td>\n",
       "      <td>1.0.0</td>\n",
       "      <td>4.0.3 and up</td>\n",
       "    </tr>\n",
       "    <tr>\n",
       "      <th>1</th>\n",
       "      <td>Coloring book moana</td>\n",
       "      <td>ART_AND_DESIGN</td>\n",
       "      <td>3.9</td>\n",
       "      <td>967</td>\n",
       "      <td>14000.000000</td>\n",
       "      <td>500000</td>\n",
       "      <td>Free</td>\n",
       "      <td>0.0</td>\n",
       "      <td>Everyone</td>\n",
       "      <td>Art &amp; Design;Pretend Play</td>\n",
       "      <td>January 15, 2018</td>\n",
       "      <td>2.0.0</td>\n",
       "      <td>4.0.3 and up</td>\n",
       "    </tr>\n",
       "    <tr>\n",
       "      <th>2</th>\n",
       "      <td>U Launcher Lite – FREE Live Cool Themes, Hide ...</td>\n",
       "      <td>ART_AND_DESIGN</td>\n",
       "      <td>4.7</td>\n",
       "      <td>87510</td>\n",
       "      <td>8700.000000</td>\n",
       "      <td>5000000</td>\n",
       "      <td>Free</td>\n",
       "      <td>0.0</td>\n",
       "      <td>Everyone</td>\n",
       "      <td>Art &amp; Design</td>\n",
       "      <td>August 1, 2018</td>\n",
       "      <td>1.2.4</td>\n",
       "      <td>4.0.3 and up</td>\n",
       "    </tr>\n",
       "    <tr>\n",
       "      <th>3</th>\n",
       "      <td>Sketch - Draw &amp; Paint</td>\n",
       "      <td>ART_AND_DESIGN</td>\n",
       "      <td>4.5</td>\n",
       "      <td>215644</td>\n",
       "      <td>25000.000000</td>\n",
       "      <td>50000000</td>\n",
       "      <td>Free</td>\n",
       "      <td>0.0</td>\n",
       "      <td>Teen</td>\n",
       "      <td>Art &amp; Design</td>\n",
       "      <td>June 8, 2018</td>\n",
       "      <td>Varies with device</td>\n",
       "      <td>4.2 and up</td>\n",
       "    </tr>\n",
       "    <tr>\n",
       "      <th>4</th>\n",
       "      <td>Pixel Draw - Number Art Coloring Book</td>\n",
       "      <td>ART_AND_DESIGN</td>\n",
       "      <td>4.3</td>\n",
       "      <td>967</td>\n",
       "      <td>2800.000000</td>\n",
       "      <td>100000</td>\n",
       "      <td>Free</td>\n",
       "      <td>0.0</td>\n",
       "      <td>Everyone</td>\n",
       "      <td>Art &amp; Design;Creativity</td>\n",
       "      <td>June 20, 2018</td>\n",
       "      <td>1.1</td>\n",
       "      <td>4.4 and up</td>\n",
       "    </tr>\n",
       "    <tr>\n",
       "      <th>...</th>\n",
       "      <td>...</td>\n",
       "      <td>...</td>\n",
       "      <td>...</td>\n",
       "      <td>...</td>\n",
       "      <td>...</td>\n",
       "      <td>...</td>\n",
       "      <td>...</td>\n",
       "      <td>...</td>\n",
       "      <td>...</td>\n",
       "      <td>...</td>\n",
       "      <td>...</td>\n",
       "      <td>...</td>\n",
       "      <td>...</td>\n",
       "    </tr>\n",
       "    <tr>\n",
       "      <th>10834</th>\n",
       "      <td>FR Calculator</td>\n",
       "      <td>FAMILY</td>\n",
       "      <td>4.0</td>\n",
       "      <td>7</td>\n",
       "      <td>2600.000000</td>\n",
       "      <td>500</td>\n",
       "      <td>Free</td>\n",
       "      <td>0.0</td>\n",
       "      <td>Everyone</td>\n",
       "      <td>Education</td>\n",
       "      <td>June 18, 2017</td>\n",
       "      <td>1.0.0</td>\n",
       "      <td>4.1 and up</td>\n",
       "    </tr>\n",
       "    <tr>\n",
       "      <th>10836</th>\n",
       "      <td>Sya9a Maroc - FR</td>\n",
       "      <td>FAMILY</td>\n",
       "      <td>4.5</td>\n",
       "      <td>38</td>\n",
       "      <td>53000.000000</td>\n",
       "      <td>5000</td>\n",
       "      <td>Free</td>\n",
       "      <td>0.0</td>\n",
       "      <td>Everyone</td>\n",
       "      <td>Education</td>\n",
       "      <td>July 25, 2017</td>\n",
       "      <td>1.48</td>\n",
       "      <td>4.1 and up</td>\n",
       "    </tr>\n",
       "    <tr>\n",
       "      <th>10837</th>\n",
       "      <td>Fr. Mike Schmitz Audio Teachings</td>\n",
       "      <td>FAMILY</td>\n",
       "      <td>5.0</td>\n",
       "      <td>4</td>\n",
       "      <td>3600.000000</td>\n",
       "      <td>100</td>\n",
       "      <td>Free</td>\n",
       "      <td>0.0</td>\n",
       "      <td>Everyone</td>\n",
       "      <td>Education</td>\n",
       "      <td>July 6, 2018</td>\n",
       "      <td>1.0</td>\n",
       "      <td>4.1 and up</td>\n",
       "    </tr>\n",
       "    <tr>\n",
       "      <th>10839</th>\n",
       "      <td>The SCP Foundation DB fr nn5n</td>\n",
       "      <td>BOOKS_AND_REFERENCE</td>\n",
       "      <td>4.5</td>\n",
       "      <td>114</td>\n",
       "      <td>21516.529524</td>\n",
       "      <td>1000</td>\n",
       "      <td>Free</td>\n",
       "      <td>0.0</td>\n",
       "      <td>Mature 17+</td>\n",
       "      <td>Books &amp; Reference</td>\n",
       "      <td>January 19, 2015</td>\n",
       "      <td>Varies with device</td>\n",
       "      <td>Varies with device</td>\n",
       "    </tr>\n",
       "    <tr>\n",
       "      <th>10840</th>\n",
       "      <td>iHoroscope - 2018 Daily Horoscope &amp; Astrology</td>\n",
       "      <td>LIFESTYLE</td>\n",
       "      <td>4.5</td>\n",
       "      <td>398307</td>\n",
       "      <td>19000.000000</td>\n",
       "      <td>10000000</td>\n",
       "      <td>Free</td>\n",
       "      <td>0.0</td>\n",
       "      <td>Everyone</td>\n",
       "      <td>Lifestyle</td>\n",
       "      <td>July 25, 2018</td>\n",
       "      <td>Varies with device</td>\n",
       "      <td>Varies with device</td>\n",
       "    </tr>\n",
       "  </tbody>\n",
       "</table>\n",
       "<p>9338 rows × 13 columns</p>\n",
       "</div>"
      ],
      "text/plain": [
       "                                                     App             Category  \\\n",
       "0         Photo Editor & Candy Camera & Grid & ScrapBook       ART_AND_DESIGN   \n",
       "1                                    Coloring book moana       ART_AND_DESIGN   \n",
       "2      U Launcher Lite – FREE Live Cool Themes, Hide ...       ART_AND_DESIGN   \n",
       "3                                  Sketch - Draw & Paint       ART_AND_DESIGN   \n",
       "4                  Pixel Draw - Number Art Coloring Book       ART_AND_DESIGN   \n",
       "...                                                  ...                  ...   \n",
       "10834                                      FR Calculator               FAMILY   \n",
       "10836                                   Sya9a Maroc - FR               FAMILY   \n",
       "10837                   Fr. Mike Schmitz Audio Teachings               FAMILY   \n",
       "10839                      The SCP Foundation DB fr nn5n  BOOKS_AND_REFERENCE   \n",
       "10840      iHoroscope - 2018 Daily Horoscope & Astrology            LIFESTYLE   \n",
       "\n",
       "       Rating  Reviews          Size  Installs  Type  Price Content Rating  \\\n",
       "0         4.1      159  19000.000000     10000  Free    0.0       Everyone   \n",
       "1         3.9      967  14000.000000    500000  Free    0.0       Everyone   \n",
       "2         4.7    87510   8700.000000   5000000  Free    0.0       Everyone   \n",
       "3         4.5   215644  25000.000000  50000000  Free    0.0           Teen   \n",
       "4         4.3      967   2800.000000    100000  Free    0.0       Everyone   \n",
       "...       ...      ...           ...       ...   ...    ...            ...   \n",
       "10834     4.0        7   2600.000000       500  Free    0.0       Everyone   \n",
       "10836     4.5       38  53000.000000      5000  Free    0.0       Everyone   \n",
       "10837     5.0        4   3600.000000       100  Free    0.0       Everyone   \n",
       "10839     4.5      114  21516.529524      1000  Free    0.0     Mature 17+   \n",
       "10840     4.5   398307  19000.000000  10000000  Free    0.0       Everyone   \n",
       "\n",
       "                          Genres      Last Updated         Current Ver  \\\n",
       "0                   Art & Design   January 7, 2018               1.0.0   \n",
       "1      Art & Design;Pretend Play  January 15, 2018               2.0.0   \n",
       "2                   Art & Design    August 1, 2018               1.2.4   \n",
       "3                   Art & Design      June 8, 2018  Varies with device   \n",
       "4        Art & Design;Creativity     June 20, 2018                 1.1   \n",
       "...                          ...               ...                 ...   \n",
       "10834                  Education     June 18, 2017               1.0.0   \n",
       "10836                  Education     July 25, 2017                1.48   \n",
       "10837                  Education      July 6, 2018                 1.0   \n",
       "10839          Books & Reference  January 19, 2015  Varies with device   \n",
       "10840                  Lifestyle     July 25, 2018  Varies with device   \n",
       "\n",
       "              Android Ver  \n",
       "0            4.0.3 and up  \n",
       "1            4.0.3 and up  \n",
       "2            4.0.3 and up  \n",
       "3              4.2 and up  \n",
       "4              4.4 and up  \n",
       "...                   ...  \n",
       "10834          4.1 and up  \n",
       "10836          4.1 and up  \n",
       "10837          4.1 and up  \n",
       "10839  Varies with device  \n",
       "10840  Varies with device  \n",
       "\n",
       "[9338 rows x 13 columns]"
      ]
     },
     "execution_count": 45,
     "metadata": {},
     "output_type": "execute_result"
    }
   ],
   "source": [
    "data1[data1.Price<30]"
   ]
  },
  {
   "cell_type": "markdown",
   "id": "54f33d4e",
   "metadata": {
    "papermill": {
     "duration": 0.023197,
     "end_time": "2022-10-09T05:18:05.212162",
     "exception": false,
     "start_time": "2022-10-09T05:18:05.188965",
     "status": "completed"
    },
    "tags": []
   },
   "source": [
    "Two major takeaways from outlier analysis are as follows:\n",
    "\n",
    "- Outliers in data can arise due to genuine reasons or because of dubious entries. In the latter case, you should go ahead and remove such entries immediately. Use a boxplot to observe, analyse and remove them.\n",
    "- In the former case, you should determine whether or not removing them would add value to your analysis procedure."
   ]
  },
  {
   "cell_type": "code",
   "execution_count": 46,
   "id": "6ce295b1",
   "metadata": {
    "execution": {
     "iopub.execute_input": "2022-10-09T05:18:05.262460Z",
     "iopub.status.busy": "2022-10-09T05:18:05.261422Z",
     "iopub.status.idle": "2022-10-09T05:18:05.273457Z",
     "shell.execute_reply": "2022-10-09T05:18:05.272395Z"
    },
    "papermill": {
     "duration": 0.040501,
     "end_time": "2022-10-09T05:18:05.276019",
     "exception": false,
     "start_time": "2022-10-09T05:18:05.235518",
     "status": "completed"
    },
    "tags": []
   },
   "outputs": [
    {
     "data": {
      "text/plain": [
       "count    9359.000000\n",
       "mean        0.961116\n",
       "std        15.822478\n",
       "min         0.000000\n",
       "25%         0.000000\n",
       "50%         0.000000\n",
       "75%         0.000000\n",
       "max       400.000000\n",
       "Name: Price, dtype: float64"
      ]
     },
     "execution_count": 46,
     "metadata": {},
     "output_type": "execute_result"
    }
   ],
   "source": [
    "# For the given dataset, calculate the IQR of the Price column.\n",
    "\n",
    "data1.Price.describe()\n",
    "\n",
    "#You shall see that the values obtained at both 25th and 75th percentile are 0. Hence the IQR is also 0."
   ]
  },
  {
   "cell_type": "markdown",
   "id": "c9eb6c5e",
   "metadata": {
    "papermill": {
     "duration": 0.023235,
     "end_time": "2022-10-09T05:18:05.322837",
     "exception": false,
     "start_time": "2022-10-09T05:18:05.299602",
     "status": "completed"
    },
    "tags": []
   },
   "source": [
    "# Histograms\n",
    "\n",
    "Histograms can also be used in conjuction with boxplots for data cleaning and data handling purposes. You can use it to check the spread of a numeric variable. Histograms generally work by bucketing the entire range of values that a particular variable takes to specific __bins__. After that, it uses vertical bars to denote the total number of records in a specific bin, which is also known as its __frequency__.\n"
   ]
  },
  {
   "cell_type": "markdown",
   "id": "c51d2cc4",
   "metadata": {
    "papermill": {
     "duration": 0.023369,
     "end_time": "2022-10-09T05:18:05.369669",
     "exception": false,
     "start_time": "2022-10-09T05:18:05.346300",
     "status": "completed"
    },
    "tags": []
   },
   "source": [
    "You'll be using plt.hist() to plot a histogram. Check out its official documentation:https://matplotlib.org/3.1.1/api/_as_gen/matplotlib.pyplot.hist.html"
   ]
  },
  {
   "cell_type": "code",
   "execution_count": 47,
   "id": "73097a2a",
   "metadata": {
    "execution": {
     "iopub.execute_input": "2022-10-09T05:18:05.419125Z",
     "iopub.status.busy": "2022-10-09T05:18:05.417936Z",
     "iopub.status.idle": "2022-10-09T05:18:05.627194Z",
     "shell.execute_reply": "2022-10-09T05:18:05.626017Z"
    },
    "papermill": {
     "duration": 0.236882,
     "end_time": "2022-10-09T05:18:05.630123",
     "exception": false,
     "start_time": "2022-10-09T05:18:05.393241",
     "status": "completed"
    },
    "tags": []
   },
   "outputs": [
    {
     "data": {
      "image/png": "[encoded data removed]",
      "text/plain": [
       "<Figure size 432x288 with 1 Axes>"
      ]
     },
     "metadata": {
      "needs_background": "light"
     },
     "output_type": "display_data"
    }
   ],
   "source": [
    "#Create a histogram of the Reviews\n",
    "plt.hist(data1.Reviews)\n",
    "plt.show()"
   ]
  },
  {
   "cell_type": "code",
   "execution_count": 48,
   "id": "93eadc45",
   "metadata": {
    "execution": {
     "iopub.execute_input": "2022-10-09T05:18:05.680912Z",
     "iopub.status.busy": "2022-10-09T05:18:05.680084Z",
     "iopub.status.idle": "2022-10-09T05:18:05.861905Z",
     "shell.execute_reply": "2022-10-09T05:18:05.861060Z"
    },
    "papermill": {
     "duration": 0.210398,
     "end_time": "2022-10-09T05:18:05.864295",
     "exception": false,
     "start_time": "2022-10-09T05:18:05.653897",
     "status": "completed"
    },
    "tags": []
   },
   "outputs": [
    {
     "data": {
      "image/png": "[encoded data removed]",
      "text/plain": [
       "<Figure size 432x288 with 1 Axes>"
      ]
     },
     "metadata": {
      "needs_background": "light"
     },
     "output_type": "display_data"
    }
   ],
   "source": [
    "plt.boxplot(data1.Reviews)\n",
    "plt.show()"
   ]
  },
  {
   "cell_type": "markdown",
   "id": "5cbffeea",
   "metadata": {
    "papermill": {
     "duration": 0.023963,
     "end_time": "2022-10-09T05:18:05.912227",
     "exception": false,
     "start_time": "2022-10-09T05:18:05.888264",
     "status": "completed"
    },
    "tags": []
   },
   "source": [
    "**Checking out records with more than 10 millions reviews**"
   ]
  },
  {
   "cell_type": "code",
   "execution_count": 49,
   "id": "33391df4",
   "metadata": {
    "execution": {
     "iopub.execute_input": "2022-10-09T05:18:05.962297Z",
     "iopub.status.busy": "2022-10-09T05:18:05.961569Z",
     "iopub.status.idle": "2022-10-09T05:18:05.981728Z",
     "shell.execute_reply": "2022-10-09T05:18:05.980481Z"
    },
    "papermill": {
     "duration": 0.048187,
     "end_time": "2022-10-09T05:18:05.984322",
     "exception": false,
     "start_time": "2022-10-09T05:18:05.936135",
     "status": "completed"
    },
    "tags": []
   },
   "outputs": [
    {
     "data": {
      "text/html": [
       "<div>\n",
       "<style scoped>\n",
       "    .dataframe tbody tr th:only-of-type {\n",
       "        vertical-align: middle;\n",
       "    }\n",
       "\n",
       "    .dataframe tbody tr th {\n",
       "        vertical-align: top;\n",
       "    }\n",
       "\n",
       "    .dataframe thead th {\n",
       "        text-align: right;\n",
       "    }\n",
       "</style>\n",
       "<table border=\"1\" class=\"dataframe\">\n",
       "  <thead>\n",
       "    <tr style=\"text-align: right;\">\n",
       "      <th></th>\n",
       "      <th>App</th>\n",
       "      <th>Category</th>\n",
       "      <th>Rating</th>\n",
       "      <th>Reviews</th>\n",
       "      <th>Size</th>\n",
       "      <th>Installs</th>\n",
       "      <th>Type</th>\n",
       "      <th>Price</th>\n",
       "      <th>Content Rating</th>\n",
       "      <th>Genres</th>\n",
       "      <th>Last Updated</th>\n",
       "      <th>Current Ver</th>\n",
       "      <th>Android Ver</th>\n",
       "    </tr>\n",
       "  </thead>\n",
       "  <tbody>\n",
       "    <tr>\n",
       "      <th>335</th>\n",
       "      <td>Messenger – Text and Video Chat for Free</td>\n",
       "      <td>COMMUNICATION</td>\n",
       "      <td>4.0</td>\n",
       "      <td>56642847</td>\n",
       "      <td>21516.529524</td>\n",
       "      <td>1000000000</td>\n",
       "      <td>Free</td>\n",
       "      <td>0.0</td>\n",
       "      <td>Everyone</td>\n",
       "      <td>Communication</td>\n",
       "      <td>August 1, 2018</td>\n",
       "      <td>Varies with device</td>\n",
       "      <td>Varies with device</td>\n",
       "    </tr>\n",
       "    <tr>\n",
       "      <th>336</th>\n",
       "      <td>WhatsApp Messenger</td>\n",
       "      <td>COMMUNICATION</td>\n",
       "      <td>4.4</td>\n",
       "      <td>69119316</td>\n",
       "      <td>21516.529524</td>\n",
       "      <td>1000000000</td>\n",
       "      <td>Free</td>\n",
       "      <td>0.0</td>\n",
       "      <td>Everyone</td>\n",
       "      <td>Communication</td>\n",
       "      <td>August 3, 2018</td>\n",
       "      <td>Varies with device</td>\n",
       "      <td>Varies with device</td>\n",
       "    </tr>\n",
       "    <tr>\n",
       "      <th>342</th>\n",
       "      <td>Viber Messenger</td>\n",
       "      <td>COMMUNICATION</td>\n",
       "      <td>4.3</td>\n",
       "      <td>11334799</td>\n",
       "      <td>21516.529524</td>\n",
       "      <td>500000000</td>\n",
       "      <td>Free</td>\n",
       "      <td>0.0</td>\n",
       "      <td>Everyone</td>\n",
       "      <td>Communication</td>\n",
       "      <td>July 18, 2018</td>\n",
       "      <td>Varies with device</td>\n",
       "      <td>Varies with device</td>\n",
       "    </tr>\n",
       "    <tr>\n",
       "      <th>378</th>\n",
       "      <td>UC Browser - Fast Download Private &amp; Secure</td>\n",
       "      <td>COMMUNICATION</td>\n",
       "      <td>4.5</td>\n",
       "      <td>17712922</td>\n",
       "      <td>40000.000000</td>\n",
       "      <td>500000000</td>\n",
       "      <td>Free</td>\n",
       "      <td>0.0</td>\n",
       "      <td>Teen</td>\n",
       "      <td>Communication</td>\n",
       "      <td>August 2, 2018</td>\n",
       "      <td>12.8.5.1121</td>\n",
       "      <td>4.0 and up</td>\n",
       "    </tr>\n",
       "    <tr>\n",
       "      <th>381</th>\n",
       "      <td>WhatsApp Messenger</td>\n",
       "      <td>COMMUNICATION</td>\n",
       "      <td>4.4</td>\n",
       "      <td>69119316</td>\n",
       "      <td>21516.529524</td>\n",
       "      <td>1000000000</td>\n",
       "      <td>Free</td>\n",
       "      <td>0.0</td>\n",
       "      <td>Everyone</td>\n",
       "      <td>Communication</td>\n",
       "      <td>August 3, 2018</td>\n",
       "      <td>Varies with device</td>\n",
       "      <td>Varies with device</td>\n",
       "    </tr>\n",
       "  </tbody>\n",
       "</table>\n",
       "</div>"
      ],
      "text/plain": [
       "                                             App       Category  Rating  \\\n",
       "335     Messenger – Text and Video Chat for Free  COMMUNICATION     4.0   \n",
       "336                           WhatsApp Messenger  COMMUNICATION     4.4   \n",
       "342                              Viber Messenger  COMMUNICATION     4.3   \n",
       "378  UC Browser - Fast Download Private & Secure  COMMUNICATION     4.5   \n",
       "381                           WhatsApp Messenger  COMMUNICATION     4.4   \n",
       "\n",
       "      Reviews          Size    Installs  Type  Price Content Rating  \\\n",
       "335  56642847  21516.529524  1000000000  Free    0.0       Everyone   \n",
       "336  69119316  21516.529524  1000000000  Free    0.0       Everyone   \n",
       "342  11334799  21516.529524   500000000  Free    0.0       Everyone   \n",
       "378  17712922  40000.000000   500000000  Free    0.0           Teen   \n",
       "381  69119316  21516.529524  1000000000  Free    0.0       Everyone   \n",
       "\n",
       "            Genres    Last Updated         Current Ver         Android Ver  \n",
       "335  Communication  August 1, 2018  Varies with device  Varies with device  \n",
       "336  Communication  August 3, 2018  Varies with device  Varies with device  \n",
       "342  Communication   July 18, 2018  Varies with device  Varies with device  \n",
       "378  Communication  August 2, 2018         12.8.5.1121          4.0 and up  \n",
       "381  Communication  August 3, 2018  Varies with device  Varies with device  "
      ]
     },
     "execution_count": 49,
     "metadata": {},
     "output_type": "execute_result"
    }
   ],
   "source": [
    "data1[data1.Reviews>=10000000].head()"
   ]
  },
  {
   "cell_type": "code",
   "execution_count": 50,
   "id": "e742e51c",
   "metadata": {
    "execution": {
     "iopub.execute_input": "2022-10-09T05:18:06.035267Z",
     "iopub.status.busy": "2022-10-09T05:18:06.034457Z",
     "iopub.status.idle": "2022-10-09T05:18:06.042310Z",
     "shell.execute_reply": "2022-10-09T05:18:06.041370Z"
    },
    "papermill": {
     "duration": 0.036108,
     "end_time": "2022-10-09T05:18:06.044595",
     "exception": false,
     "start_time": "2022-10-09T05:18:06.008487",
     "status": "completed"
    },
    "tags": []
   },
   "outputs": [
    {
     "data": {
      "text/plain": [
       "(9359,)"
      ]
     },
     "execution_count": 50,
     "metadata": {},
     "output_type": "execute_result"
    }
   ],
   "source": [
    "# Drop records which are having more than 1M reviews\n",
    "data2 = data1.Reviews<1000000\n",
    "data2.shape"
   ]
  },
  {
   "cell_type": "code",
   "execution_count": 51,
   "id": "265b49c2",
   "metadata": {
    "execution": {
     "iopub.execute_input": "2022-10-09T05:18:06.097190Z",
     "iopub.status.busy": "2022-10-09T05:18:06.096373Z",
     "iopub.status.idle": "2022-10-09T05:18:06.107670Z",
     "shell.execute_reply": "2022-10-09T05:18:06.106716Z"
    },
    "papermill": {
     "duration": 0.040542,
     "end_time": "2022-10-09T05:18:06.110326",
     "exception": false,
     "start_time": "2022-10-09T05:18:06.069784",
     "status": "completed"
    },
    "tags": []
   },
   "outputs": [
    {
     "data": {
      "text/plain": [
       "count    9.359000e+03\n",
       "mean     1.791083e+07\n",
       "std      9.127102e+07\n",
       "min      5.000000e+00\n",
       "25%      1.000000e+04\n",
       "50%      5.000000e+05\n",
       "75%      5.000000e+06\n",
       "max      1.000000e+09\n",
       "Name: Installs, dtype: float64"
      ]
     },
     "execution_count": 51,
     "metadata": {},
     "output_type": "execute_result"
    }
   ],
   "source": [
    "# Calculate the IQR of the Installs column.\n",
    "\n",
    "data1.Installs.describe()\n",
    "# calculate the IQR by subtracting 25th percentile value from the 75th percentile and you'll get the answer"
   ]
  },
  {
   "cell_type": "code",
   "execution_count": 52,
   "id": "d6c3fd7e",
   "metadata": {
    "execution": {
     "iopub.execute_input": "2022-10-09T05:18:06.162222Z",
     "iopub.status.busy": "2022-10-09T05:18:06.161781Z",
     "iopub.status.idle": "2022-10-09T05:18:06.171519Z",
     "shell.execute_reply": "2022-10-09T05:18:06.170545Z"
    },
    "papermill": {
     "duration": 0.038651,
     "end_time": "2022-10-09T05:18:06.174145",
     "exception": false,
     "start_time": "2022-10-09T05:18:06.135494",
     "status": "completed"
    },
    "tags": []
   },
   "outputs": [
    {
     "data": {
      "text/plain": [
       "(9229, 13)"
      ]
     },
     "execution_count": 52,
     "metadata": {},
     "output_type": "execute_result"
    }
   ],
   "source": [
    "# Now, remove all the apps which have the number of installs greater than 100 million. \n",
    "#After that, evaluate the shape of the data and choose the correct option.\n",
    "data2 = data1[data1.Installs <= 100000000]\n",
    "data2.shape"
   ]
  },
  {
   "cell_type": "code",
   "execution_count": 53,
   "id": "aa144d63",
   "metadata": {
    "execution": {
     "iopub.execute_input": "2022-10-09T05:18:06.227229Z",
     "iopub.status.busy": "2022-10-09T05:18:06.226787Z",
     "iopub.status.idle": "2022-10-09T05:18:06.434337Z",
     "shell.execute_reply": "2022-10-09T05:18:06.433493Z"
    },
    "papermill": {
     "duration": 0.236246,
     "end_time": "2022-10-09T05:18:06.436683",
     "exception": false,
     "start_time": "2022-10-09T05:18:06.200437",
     "status": "completed"
    },
    "tags": []
   },
   "outputs": [
    {
     "data": {
      "image/png": "[encoded data removed]",
      "text/plain": [
       "<Figure size 432x288 with 1 Axes>"
      ]
     },
     "metadata": {
      "needs_background": "light"
     },
     "output_type": "display_data"
    }
   ],
   "source": [
    "#Plot a histogram for the Size column and then choose the correct option.\n",
    "plt.hist(data1.Size)\n",
    "plt.show()"
   ]
  },
  {
   "cell_type": "code",
   "execution_count": 54,
   "id": "127fb220",
   "metadata": {
    "execution": {
     "iopub.execute_input": "2022-10-09T05:18:06.488055Z",
     "iopub.status.busy": "2022-10-09T05:18:06.487614Z",
     "iopub.status.idle": "2022-10-09T05:18:06.663218Z",
     "shell.execute_reply": "2022-10-09T05:18:06.661329Z"
    },
    "papermill": {
     "duration": 0.2046,
     "end_time": "2022-10-09T05:18:06.665987",
     "exception": false,
     "start_time": "2022-10-09T05:18:06.461387",
     "status": "completed"
    },
    "tags": []
   },
   "outputs": [
    {
     "name": "stdout",
     "output_type": "stream",
     "text": [
      "count      9359.000000\n",
      "mean      22710.768864\n",
      "std       21311.274234\n",
      "min           8.500000\n",
      "25%        6600.000000\n",
      "50%       21000.000000\n",
      "75%       27000.000000\n",
      "max      100000.000000\n",
      "Name: Size, dtype: float64\n"
     ]
    },
    {
     "data": {
      "image/png": "[encoded data removed]",
      "text/plain": [
       "<Figure size 432x288 with 1 Axes>"
      ]
     },
     "metadata": {
      "needs_background": "light"
     },
     "output_type": "display_data"
    }
   ],
   "source": [
    "#Analyse the size column using a boxplot and report back the approximate median value.\n",
    "print(data1.Size.describe())\n",
    "plt.boxplot(data1.Size)\n",
    "plt.show()"
   ]
  },
  {
   "cell_type": "code",
   "execution_count": 55,
   "id": "f62a0695",
   "metadata": {
    "execution": {
     "iopub.execute_input": "2022-10-09T05:18:06.718489Z",
     "iopub.status.busy": "2022-10-09T05:18:06.718053Z",
     "iopub.status.idle": "2022-10-09T05:18:06.743685Z",
     "shell.execute_reply": "2022-10-09T05:18:06.742777Z"
    },
    "papermill": {
     "duration": 0.054914,
     "end_time": "2022-10-09T05:18:06.746250",
     "exception": false,
     "start_time": "2022-10-09T05:18:06.691336",
     "status": "completed"
    },
    "tags": []
   },
   "outputs": [
    {
     "data": {
      "text/html": [
       "<div>\n",
       "<style scoped>\n",
       "    .dataframe tbody tr th:only-of-type {\n",
       "        vertical-align: middle;\n",
       "    }\n",
       "\n",
       "    .dataframe tbody tr th {\n",
       "        vertical-align: top;\n",
       "    }\n",
       "\n",
       "    .dataframe thead th {\n",
       "        text-align: right;\n",
       "    }\n",
       "</style>\n",
       "<table border=\"1\" class=\"dataframe\">\n",
       "  <thead>\n",
       "    <tr style=\"text-align: right;\">\n",
       "      <th></th>\n",
       "      <th>App</th>\n",
       "      <th>Category</th>\n",
       "      <th>Rating</th>\n",
       "      <th>Reviews</th>\n",
       "      <th>Size</th>\n",
       "      <th>Installs</th>\n",
       "      <th>Type</th>\n",
       "      <th>Price</th>\n",
       "      <th>Content Rating</th>\n",
       "      <th>Genres</th>\n",
       "      <th>Last Updated</th>\n",
       "      <th>Current Ver</th>\n",
       "      <th>Android Ver</th>\n",
       "    </tr>\n",
       "  </thead>\n",
       "  <tbody>\n",
       "    <tr>\n",
       "      <th>612</th>\n",
       "      <td>American Girls Mobile Numbers</td>\n",
       "      <td>DATING</td>\n",
       "      <td>5.0</td>\n",
       "      <td>5</td>\n",
       "      <td>4400.0</td>\n",
       "      <td>1000</td>\n",
       "      <td>Free</td>\n",
       "      <td>0.00</td>\n",
       "      <td>Mature 17+</td>\n",
       "      <td>Dating</td>\n",
       "      <td>July 17, 2018</td>\n",
       "      <td>3.0</td>\n",
       "      <td>4.0.3 and up</td>\n",
       "    </tr>\n",
       "    <tr>\n",
       "      <th>615</th>\n",
       "      <td>Awake Dating</td>\n",
       "      <td>DATING</td>\n",
       "      <td>5.0</td>\n",
       "      <td>2</td>\n",
       "      <td>70000.0</td>\n",
       "      <td>100</td>\n",
       "      <td>Free</td>\n",
       "      <td>0.00</td>\n",
       "      <td>Mature 17+</td>\n",
       "      <td>Dating</td>\n",
       "      <td>July 24, 2018</td>\n",
       "      <td>2.2.9</td>\n",
       "      <td>4.4 and up</td>\n",
       "    </tr>\n",
       "    <tr>\n",
       "      <th>636</th>\n",
       "      <td>Girls Live Talk - Free Text and Video Chat</td>\n",
       "      <td>DATING</td>\n",
       "      <td>5.0</td>\n",
       "      <td>6</td>\n",
       "      <td>5000.0</td>\n",
       "      <td>100</td>\n",
       "      <td>Free</td>\n",
       "      <td>0.00</td>\n",
       "      <td>Mature 17+</td>\n",
       "      <td>Dating</td>\n",
       "      <td>August 1, 2018</td>\n",
       "      <td>8.2</td>\n",
       "      <td>4.0.3 and up</td>\n",
       "    </tr>\n",
       "    <tr>\n",
       "      <th>640</th>\n",
       "      <td>Online Girls Chat Group</td>\n",
       "      <td>DATING</td>\n",
       "      <td>5.0</td>\n",
       "      <td>5</td>\n",
       "      <td>5000.0</td>\n",
       "      <td>100</td>\n",
       "      <td>Free</td>\n",
       "      <td>0.00</td>\n",
       "      <td>Mature 17+</td>\n",
       "      <td>Dating</td>\n",
       "      <td>August 2, 2018</td>\n",
       "      <td>8.2</td>\n",
       "      <td>4.0.3 and up</td>\n",
       "    </tr>\n",
       "    <tr>\n",
       "      <th>654</th>\n",
       "      <td>Speeding Joyride &amp; Car Meet App</td>\n",
       "      <td>DATING</td>\n",
       "      <td>5.0</td>\n",
       "      <td>3</td>\n",
       "      <td>25000.0</td>\n",
       "      <td>100</td>\n",
       "      <td>Free</td>\n",
       "      <td>0.00</td>\n",
       "      <td>Mature 17+</td>\n",
       "      <td>Dating</td>\n",
       "      <td>July 20, 2018</td>\n",
       "      <td>1.2.9</td>\n",
       "      <td>4.1 and up</td>\n",
       "    </tr>\n",
       "    <tr>\n",
       "      <th>2522</th>\n",
       "      <td>420 BZ Budeze Delivery</td>\n",
       "      <td>MEDICAL</td>\n",
       "      <td>5.0</td>\n",
       "      <td>2</td>\n",
       "      <td>11000.0</td>\n",
       "      <td>100</td>\n",
       "      <td>Free</td>\n",
       "      <td>0.00</td>\n",
       "      <td>Mature 17+</td>\n",
       "      <td>Medical</td>\n",
       "      <td>June 6, 2018</td>\n",
       "      <td>1.0.1</td>\n",
       "      <td>4.1 and up</td>\n",
       "    </tr>\n",
       "    <tr>\n",
       "      <th>2533</th>\n",
       "      <td>Zen Leaf</td>\n",
       "      <td>MEDICAL</td>\n",
       "      <td>5.0</td>\n",
       "      <td>1</td>\n",
       "      <td>6100.0</td>\n",
       "      <td>100</td>\n",
       "      <td>Free</td>\n",
       "      <td>0.00</td>\n",
       "      <td>Mature 17+</td>\n",
       "      <td>Medical</td>\n",
       "      <td>March 8, 2018</td>\n",
       "      <td>2.3.5</td>\n",
       "      <td>4.1 and up</td>\n",
       "    </tr>\n",
       "    <tr>\n",
       "      <th>5489</th>\n",
       "      <td>AP Art History Flashcards</td>\n",
       "      <td>FAMILY</td>\n",
       "      <td>5.0</td>\n",
       "      <td>1</td>\n",
       "      <td>96000.0</td>\n",
       "      <td>10</td>\n",
       "      <td>Paid</td>\n",
       "      <td>29.99</td>\n",
       "      <td>Mature 17+</td>\n",
       "      <td>Education</td>\n",
       "      <td>January 19, 2016</td>\n",
       "      <td>3.30</td>\n",
       "      <td>4.0 and up</td>\n",
       "    </tr>\n",
       "    <tr>\n",
       "      <th>6330</th>\n",
       "      <td>HON. B.J. ACS COLLEGE ALE</td>\n",
       "      <td>FAMILY</td>\n",
       "      <td>5.0</td>\n",
       "      <td>3</td>\n",
       "      <td>1800.0</td>\n",
       "      <td>100</td>\n",
       "      <td>Free</td>\n",
       "      <td>0.00</td>\n",
       "      <td>Mature 17+</td>\n",
       "      <td>Education</td>\n",
       "      <td>December 26, 2016</td>\n",
       "      <td>3.1</td>\n",
       "      <td>4.3 and up</td>\n",
       "    </tr>\n",
       "    <tr>\n",
       "      <th>7035</th>\n",
       "      <td>420 BZ Budeze Delivery</td>\n",
       "      <td>MEDICAL</td>\n",
       "      <td>5.0</td>\n",
       "      <td>2</td>\n",
       "      <td>11000.0</td>\n",
       "      <td>100</td>\n",
       "      <td>Free</td>\n",
       "      <td>0.00</td>\n",
       "      <td>Mature 17+</td>\n",
       "      <td>Medical</td>\n",
       "      <td>June 6, 2018</td>\n",
       "      <td>1.0.1</td>\n",
       "      <td>4.1 and up</td>\n",
       "    </tr>\n",
       "    <tr>\n",
       "      <th>8275</th>\n",
       "      <td>DC N COMPANY ENTERTAINMENT RADIO!</td>\n",
       "      <td>FAMILY</td>\n",
       "      <td>5.0</td>\n",
       "      <td>22</td>\n",
       "      <td>2200.0</td>\n",
       "      <td>100</td>\n",
       "      <td>Free</td>\n",
       "      <td>0.00</td>\n",
       "      <td>Mature 17+</td>\n",
       "      <td>Entertainment</td>\n",
       "      <td>November 2, 2017</td>\n",
       "      <td>1.4</td>\n",
       "      <td>4.4 and up</td>\n",
       "    </tr>\n",
       "  </tbody>\n",
       "</table>\n",
       "</div>"
      ],
      "text/plain": [
       "                                             App Category  Rating  Reviews  \\\n",
       "612                American Girls Mobile Numbers   DATING     5.0        5   \n",
       "615                                 Awake Dating   DATING     5.0        2   \n",
       "636   Girls Live Talk - Free Text and Video Chat   DATING     5.0        6   \n",
       "640                      Online Girls Chat Group   DATING     5.0        5   \n",
       "654              Speeding Joyride & Car Meet App   DATING     5.0        3   \n",
       "2522                      420 BZ Budeze Delivery  MEDICAL     5.0        2   \n",
       "2533                                    Zen Leaf  MEDICAL     5.0        1   \n",
       "5489                   AP Art History Flashcards   FAMILY     5.0        1   \n",
       "6330                   HON. B.J. ACS COLLEGE ALE   FAMILY     5.0        3   \n",
       "7035                      420 BZ Budeze Delivery  MEDICAL     5.0        2   \n",
       "8275           DC N COMPANY ENTERTAINMENT RADIO!   FAMILY     5.0       22   \n",
       "\n",
       "         Size  Installs  Type  Price Content Rating         Genres  \\\n",
       "612    4400.0      1000  Free   0.00     Mature 17+         Dating   \n",
       "615   70000.0       100  Free   0.00     Mature 17+         Dating   \n",
       "636    5000.0       100  Free   0.00     Mature 17+         Dating   \n",
       "640    5000.0       100  Free   0.00     Mature 17+         Dating   \n",
       "654   25000.0       100  Free   0.00     Mature 17+         Dating   \n",
       "2522  11000.0       100  Free   0.00     Mature 17+        Medical   \n",
       "2533   6100.0       100  Free   0.00     Mature 17+        Medical   \n",
       "5489  96000.0        10  Paid  29.99     Mature 17+      Education   \n",
       "6330   1800.0       100  Free   0.00     Mature 17+      Education   \n",
       "7035  11000.0       100  Free   0.00     Mature 17+        Medical   \n",
       "8275   2200.0       100  Free   0.00     Mature 17+  Entertainment   \n",
       "\n",
       "           Last Updated Current Ver   Android Ver  \n",
       "612       July 17, 2018         3.0  4.0.3 and up  \n",
       "615       July 24, 2018       2.2.9    4.4 and up  \n",
       "636      August 1, 2018         8.2  4.0.3 and up  \n",
       "640      August 2, 2018         8.2  4.0.3 and up  \n",
       "654       July 20, 2018       1.2.9    4.1 and up  \n",
       "2522       June 6, 2018       1.0.1    4.1 and up  \n",
       "2533      March 8, 2018       2.3.5    4.1 and up  \n",
       "5489   January 19, 2016        3.30    4.0 and up  \n",
       "6330  December 26, 2016         3.1    4.3 and up  \n",
       "7035       June 6, 2018       1.0.1    4.1 and up  \n",
       "8275   November 2, 2017         1.4    4.4 and up  "
      ]
     },
     "execution_count": 55,
     "metadata": {},
     "output_type": "execute_result"
    }
   ],
   "source": [
    "highest_rating_adult_data = data1[(data1['Rating']== 5)& (data1['Content Rating'] == 'Mature 17+')]\n",
    "highest_rating_adult_data"
   ]
  },
  {
   "cell_type": "code",
   "execution_count": 56,
   "id": "88ab6d1e",
   "metadata": {
    "execution": {
     "iopub.execute_input": "2022-10-09T05:18:06.800954Z",
     "iopub.status.busy": "2022-10-09T05:18:06.800160Z",
     "iopub.status.idle": "2022-10-09T05:18:06.809456Z",
     "shell.execute_reply": "2022-10-09T05:18:06.808423Z"
    },
    "papermill": {
     "duration": 0.040301,
     "end_time": "2022-10-09T05:18:06.812614",
     "exception": false,
     "start_time": "2022-10-09T05:18:06.772313",
     "status": "completed"
    },
    "tags": []
   },
   "outputs": [
    {
     "data": {
      "text/plain": [
       "Free    8715\n",
       "Paid     644\n",
       "Name: Type, dtype: int64"
      ]
     },
     "execution_count": 56,
     "metadata": {},
     "output_type": "execute_result"
    }
   ],
   "source": [
    "data1.Type.value_counts()"
   ]
  },
  {
   "cell_type": "markdown",
   "id": "b6cca6a4",
   "metadata": {
    "papermill": {
     "duration": 0.02686,
     "end_time": "2022-10-09T05:18:06.866146",
     "exception": false,
     "start_time": "2022-10-09T05:18:06.839286",
     "status": "completed"
    },
    "tags": []
   },
   "source": [
    "# Visualizations Using Diffrent Cols and Plots"
   ]
  },
  {
   "cell_type": "code",
   "execution_count": 57,
   "id": "96cb94e8",
   "metadata": {
    "execution": {
     "iopub.execute_input": "2022-10-09T05:18:06.920853Z",
     "iopub.status.busy": "2022-10-09T05:18:06.920155Z",
     "iopub.status.idle": "2022-10-09T05:18:13.807274Z",
     "shell.execute_reply": "2022-10-09T05:18:13.805948Z"
    },
    "papermill": {
     "duration": 6.917342,
     "end_time": "2022-10-09T05:18:13.810195",
     "exception": false,
     "start_time": "2022-10-09T05:18:06.892853",
     "status": "completed"
    },
    "tags": []
   },
   "outputs": [
    {
     "data": {
      "image/png": "[encoded data removed]",
      "text/plain": [
       "<Figure size 1008x900 with 30 Axes>"
      ]
     },
     "metadata": {
      "needs_background": "light"
     },
     "output_type": "display_data"
    }
   ],
   "source": [
    "sns.pairplot(highest_rating_adult_data, hue = 'Genres')\n",
    "plt.show()"
   ]
  },
  {
   "cell_type": "code",
   "execution_count": 58,
   "id": "9005ade3",
   "metadata": {
    "execution": {
     "iopub.execute_input": "2022-10-09T05:18:13.868141Z",
     "iopub.status.busy": "2022-10-09T05:18:13.867698Z",
     "iopub.status.idle": "2022-10-09T05:18:14.160525Z",
     "shell.execute_reply": "2022-10-09T05:18:14.158801Z"
    },
    "papermill": {
     "duration": 0.325771,
     "end_time": "2022-10-09T05:18:14.163429",
     "exception": false,
     "start_time": "2022-10-09T05:18:13.837658",
     "status": "completed"
    },
    "tags": []
   },
   "outputs": [
    {
     "data": {
      "image/png": "[encoded data removed]",
      "text/plain": [
       "<Figure size 360x360 with 1 Axes>"
      ]
     },
     "metadata": {
      "needs_background": "light"
     },
     "output_type": "display_data"
    }
   ],
   "source": [
    "sns.displot(data = data1, x = data1['Type'], y = None, legend = True)\n",
    "plt.show()\n",
    "#The no of free apps are really higher than no of paid apps."
   ]
  },
  {
   "cell_type": "code",
   "execution_count": 59,
   "id": "223f91d5",
   "metadata": {
    "execution": {
     "iopub.execute_input": "2022-10-09T05:18:14.221012Z",
     "iopub.status.busy": "2022-10-09T05:18:14.219944Z",
     "iopub.status.idle": "2022-10-09T05:18:14.240610Z",
     "shell.execute_reply": "2022-10-09T05:18:14.239538Z"
    },
    "papermill": {
     "duration": 0.052364,
     "end_time": "2022-10-09T05:18:14.243167",
     "exception": false,
     "start_time": "2022-10-09T05:18:14.190803",
     "status": "completed"
    },
    "tags": []
   },
   "outputs": [
    {
     "data": {
      "text/html": [
       "<div>\n",
       "<style scoped>\n",
       "    .dataframe tbody tr th:only-of-type {\n",
       "        vertical-align: middle;\n",
       "    }\n",
       "\n",
       "    .dataframe tbody tr th {\n",
       "        vertical-align: top;\n",
       "    }\n",
       "\n",
       "    .dataframe thead th {\n",
       "        text-align: right;\n",
       "    }\n",
       "</style>\n",
       "<table border=\"1\" class=\"dataframe\">\n",
       "  <thead>\n",
       "    <tr style=\"text-align: right;\">\n",
       "      <th></th>\n",
       "      <th>App</th>\n",
       "      <th>Category</th>\n",
       "      <th>Rating</th>\n",
       "      <th>Reviews</th>\n",
       "      <th>Size</th>\n",
       "      <th>Installs</th>\n",
       "      <th>Type</th>\n",
       "      <th>Price</th>\n",
       "      <th>Content Rating</th>\n",
       "      <th>Genres</th>\n",
       "      <th>Last Updated</th>\n",
       "      <th>Current Ver</th>\n",
       "      <th>Android Ver</th>\n",
       "    </tr>\n",
       "  </thead>\n",
       "  <tbody>\n",
       "    <tr>\n",
       "      <th>0</th>\n",
       "      <td>Photo Editor &amp; Candy Camera &amp; Grid &amp; ScrapBook</td>\n",
       "      <td>ART_AND_DESIGN</td>\n",
       "      <td>4.1</td>\n",
       "      <td>159</td>\n",
       "      <td>19000.0</td>\n",
       "      <td>10000</td>\n",
       "      <td>Free</td>\n",
       "      <td>0.0</td>\n",
       "      <td>Everyone</td>\n",
       "      <td>Art &amp; Design</td>\n",
       "      <td>January 7, 2018</td>\n",
       "      <td>1.0.0</td>\n",
       "      <td>4.0.3 and up</td>\n",
       "    </tr>\n",
       "    <tr>\n",
       "      <th>1</th>\n",
       "      <td>Coloring book moana</td>\n",
       "      <td>ART_AND_DESIGN</td>\n",
       "      <td>3.9</td>\n",
       "      <td>967</td>\n",
       "      <td>14000.0</td>\n",
       "      <td>500000</td>\n",
       "      <td>Free</td>\n",
       "      <td>0.0</td>\n",
       "      <td>Everyone</td>\n",
       "      <td>Art &amp; Design;Pretend Play</td>\n",
       "      <td>January 15, 2018</td>\n",
       "      <td>2.0.0</td>\n",
       "      <td>4.0.3 and up</td>\n",
       "    </tr>\n",
       "    <tr>\n",
       "      <th>2</th>\n",
       "      <td>U Launcher Lite – FREE Live Cool Themes, Hide ...</td>\n",
       "      <td>ART_AND_DESIGN</td>\n",
       "      <td>4.7</td>\n",
       "      <td>87510</td>\n",
       "      <td>8700.0</td>\n",
       "      <td>5000000</td>\n",
       "      <td>Free</td>\n",
       "      <td>0.0</td>\n",
       "      <td>Everyone</td>\n",
       "      <td>Art &amp; Design</td>\n",
       "      <td>August 1, 2018</td>\n",
       "      <td>1.2.4</td>\n",
       "      <td>4.0.3 and up</td>\n",
       "    </tr>\n",
       "    <tr>\n",
       "      <th>3</th>\n",
       "      <td>Sketch - Draw &amp; Paint</td>\n",
       "      <td>ART_AND_DESIGN</td>\n",
       "      <td>4.5</td>\n",
       "      <td>215644</td>\n",
       "      <td>25000.0</td>\n",
       "      <td>50000000</td>\n",
       "      <td>Free</td>\n",
       "      <td>0.0</td>\n",
       "      <td>Teen</td>\n",
       "      <td>Art &amp; Design</td>\n",
       "      <td>June 8, 2018</td>\n",
       "      <td>Varies with device</td>\n",
       "      <td>4.2 and up</td>\n",
       "    </tr>\n",
       "    <tr>\n",
       "      <th>4</th>\n",
       "      <td>Pixel Draw - Number Art Coloring Book</td>\n",
       "      <td>ART_AND_DESIGN</td>\n",
       "      <td>4.3</td>\n",
       "      <td>967</td>\n",
       "      <td>2800.0</td>\n",
       "      <td>100000</td>\n",
       "      <td>Free</td>\n",
       "      <td>0.0</td>\n",
       "      <td>Everyone</td>\n",
       "      <td>Art &amp; Design;Creativity</td>\n",
       "      <td>June 20, 2018</td>\n",
       "      <td>1.1</td>\n",
       "      <td>4.4 and up</td>\n",
       "    </tr>\n",
       "  </tbody>\n",
       "</table>\n",
       "</div>"
      ],
      "text/plain": [
       "                                                 App        Category  Rating  \\\n",
       "0     Photo Editor & Candy Camera & Grid & ScrapBook  ART_AND_DESIGN     4.1   \n",
       "1                                Coloring book moana  ART_AND_DESIGN     3.9   \n",
       "2  U Launcher Lite – FREE Live Cool Themes, Hide ...  ART_AND_DESIGN     4.7   \n",
       "3                              Sketch - Draw & Paint  ART_AND_DESIGN     4.5   \n",
       "4              Pixel Draw - Number Art Coloring Book  ART_AND_DESIGN     4.3   \n",
       "\n",
       "   Reviews     Size  Installs  Type  Price Content Rating  \\\n",
       "0      159  19000.0     10000  Free    0.0       Everyone   \n",
       "1      967  14000.0    500000  Free    0.0       Everyone   \n",
       "2    87510   8700.0   5000000  Free    0.0       Everyone   \n",
       "3   215644  25000.0  50000000  Free    0.0           Teen   \n",
       "4      967   2800.0    100000  Free    0.0       Everyone   \n",
       "\n",
       "                      Genres      Last Updated         Current Ver  \\\n",
       "0               Art & Design   January 7, 2018               1.0.0   \n",
       "1  Art & Design;Pretend Play  January 15, 2018               2.0.0   \n",
       "2               Art & Design    August 1, 2018               1.2.4   \n",
       "3               Art & Design      June 8, 2018  Varies with device   \n",
       "4    Art & Design;Creativity     June 20, 2018                 1.1   \n",
       "\n",
       "    Android Ver  \n",
       "0  4.0.3 and up  \n",
       "1  4.0.3 and up  \n",
       "2  4.0.3 and up  \n",
       "3    4.2 and up  \n",
       "4    4.4 and up  "
      ]
     },
     "execution_count": 59,
     "metadata": {},
     "output_type": "execute_result"
    }
   ],
   "source": [
    "data1.head()"
   ]
  },
  {
   "cell_type": "code",
   "execution_count": 60,
   "id": "e2b91ebe",
   "metadata": {
    "execution": {
     "iopub.execute_input": "2022-10-09T05:18:14.301374Z",
     "iopub.status.busy": "2022-10-09T05:18:14.300577Z",
     "iopub.status.idle": "2022-10-09T05:18:16.287070Z",
     "shell.execute_reply": "2022-10-09T05:18:16.285565Z"
    },
    "papermill": {
     "duration": 2.018339,
     "end_time": "2022-10-09T05:18:16.289562",
     "exception": false,
     "start_time": "2022-10-09T05:18:14.271223",
     "status": "completed"
    },
    "tags": []
   },
   "outputs": [
    {
     "data": {
      "image/png": "[encoded data removed]",
      "text/plain": [
       "<Figure size 1080x1080 with 1 Axes>"
      ]
     },
     "metadata": {
      "needs_background": "light"
     },
     "output_type": "display_data"
    }
   ],
   "source": [
    "plt.figure(figsize=(15,15))\n",
    "chart = sns.countplot(x = data1['Genres'], y = None, data = data1, color = None, saturation =0.7,  palette='Set1')\n",
    "chart.set_xticklabels(chart.get_xticklabels(),rotation=90)\n",
    "chart.set_title(\"Genres Wise Apps Available On PlayStore\",loc = 'center',fontdict={'fontsize':15, 'color':'red','fontweight':10})\n",
    "plt.xlabel('Genres',color= 'red',size = 15)\n",
    "plt.ylabel('Count',color= 'red',size = 15)\n",
    "plt.show()"
   ]
  },
  {
   "cell_type": "markdown",
   "id": "a3901a0f",
   "metadata": {
    "papermill": {
     "duration": 0.029502,
     "end_time": "2022-10-09T05:18:16.349608",
     "exception": false,
     "start_time": "2022-10-09T05:18:16.320106",
     "status": "completed"
    },
    "tags": []
   },
   "source": [
    "\n",
    "# Histograms vs Bar Plots\n",
    "You have already studied bar plots in the previous module. Now it is a common misconception to confuse them with histograms. To understand the difference try analysing the following two situations and then choose the correct option:\n",
    "\n",
    " \n",
    "- Situation A - You want to visualise the total number of runs scored by MS Dhoni in a single year against all the teams he has played against.\n",
    "\n",
    "- Situation B - You want to visualise the spread of the runs scored by MS Dhoni in a single year."
   ]
  },
  {
   "cell_type": "markdown",
   "id": "ac97385c",
   "metadata": {
    "papermill": {
     "duration": 0.029447,
     "end_time": "2022-10-09T05:18:16.409830",
     "exception": false,
     "start_time": "2022-10-09T05:18:16.380383",
     "status": "completed"
    },
    "tags": []
   },
   "source": [
    "\n",
    "Answer: \n",
    "\n",
    "Situation A requires a bar plot whereas Situation B requires a histogram.\n",
    "\n",
    "\n",
    "A Histogram plots the frequency of a numeric variable, whereas the Bar plot shows the aggregation of a certain numerical entity for some categorical variable. In Situation A, you are analysing the total sum of runs, which is a numeric variable for all the teams, which is a categorical variable. Hence it will need a bar plot. For Situation B, you're understanding the spread of a numeric variable by checking the frequency. Hence a histogram will be used here."
   ]
  },
  {
   "cell_type": "markdown",
   "id": "afaf1575",
   "metadata": {
    "papermill": {
     "duration": 0.029423,
     "end_time": "2022-10-09T05:18:16.468909",
     "exception": false,
     "start_time": "2022-10-09T05:18:16.439486",
     "status": "completed"
    },
    "tags": []
   },
   "source": [
    "Thanks for reading till here. If you like this notebook, Please give it a Upvote and Follow me for more such notebook\n",
    "Give your views on comment section.\n",
    "\n",
    "* **Twitter: @codewith_ram**\n",
    "* **Github: @Ramakm**"
   ]
  }
 ],
 "metadata": {
  "kernelspec": {
   "display_name": "Python 3",
   "language": "python",
   "name": "python3"
  },
  "language_info": {
   "codemirror_mode": {
    "name": "ipython",
    "version": 3
   },
   "file_extension": ".py",
   "mimetype": "text/x-python",
   "name": "python",
   "nbconvert_exporter": "python",
   "pygments_lexer": "ipython3",
   "version": "3.7.12"
  },
  "papermill": {
   "default_parameters": {},
   "duration": 27.676145,
   "end_time": "2022-10-09T05:18:17.422815",
   "environment_variables": {},
   "exception": null,
   "input_path": "__notebook__.ipynb",
   "output_path": "__notebook__.ipynb",
   "parameters": {},
   "start_time": "2022-10-09T05:17:49.746670",
   "version": "2.3.4"
  }
 },
 "nbformat": 4,
 "nbformat_minor": 5
}
